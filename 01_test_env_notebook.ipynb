{
 "cells": [
  {
   "cell_type": "markdown",
   "metadata": {},
   "source": [
    "**Test Environment Notebook**\n",
    "------"
   ]
  },
  {
   "cell_type": "code",
   "execution_count": 1,
   "metadata": {},
   "outputs": [],
   "source": [
    "### Tool imports\n",
    "import joblib as jbl\n",
    "import pandas as pd\n",
    "import numpy as np\n",
    "import matplotlib.pyplot as plt\n",
    "\n",
    "### sklearn imports\n",
    "from sklearn.cluster import KMeans, MiniBatchKMeans\n",
    "\n",
    "### Local imports\n",
    "import utils.data_handling_lib as dhl\n",
    "import utils.graphics_lib as gl\n",
    "\n",
    "from utils.data_handling_lib import RANDOM_STATE"
   ]
  },
  {
   "cell_type": "markdown",
   "metadata": {},
   "source": [
    "Create raw test dataset"
   ]
  },
  {
   "cell_type": "code",
   "execution_count": 2,
   "metadata": {},
   "outputs": [],
   "source": [
    "dataset_file_path = \"datasets/winequality-combined.csv\"\n",
    "test_raw_data = dhl.load_data(dataset_file_path)"
   ]
  },
  {
   "cell_type": "markdown",
   "metadata": {},
   "source": [
    "Reduced features test"
   ]
  },
  {
   "cell_type": "code",
   "execution_count": 3,
   "metadata": {},
   "outputs": [],
   "source": [
    "test_reduced_raw_data = test_raw_data.copy()\n",
    "\n",
    "test_reduced_raw_data.drop([\"free sulfur dioxide\", \"total sulfur dioxide\", \"pH\", \"residual sugar\", \"sulphates\"], axis=1, inplace=True)"
   ]
  },
  {
   "cell_type": "markdown",
   "metadata": {},
   "source": [
    "Split dataset"
   ]
  },
  {
   "cell_type": "code",
   "execution_count": 4,
   "metadata": {},
   "outputs": [],
   "source": [
    "train, train_labels, test, test_labels = dhl.strat_split_dataset(test_reduced_raw_data, \"quality\", 1)"
   ]
  },
  {
   "cell_type": "code",
   "execution_count": 5,
   "metadata": {},
   "outputs": [
    {
     "name": "stdout",
     "output_type": "stream",
     "text": [
      "      fixed acidity  volatile acidity  citric acid  chlorides  density  \\\n",
      "1536            6.1              0.53         0.08      0.077  0.99528   \n",
      "2750            6.8              0.32         0.18      0.041  0.99590   \n",
      "4866            5.8              0.23         0.20      0.043  0.99226   \n",
      "3350            6.7              0.16         0.28      0.046  0.99210   \n",
      "2611            8.3              0.16         0.48      0.057  0.99430   \n",
      "\n",
      "      alcohol  color  \n",
      "1536     10.3      1  \n",
      "2750      8.9      0  \n",
      "4866     10.2      0  \n",
      "3350     11.4      0  \n",
      "2611     10.3      0  \n"
     ]
    }
   ],
   "source": [
    "print(train.head())"
   ]
  },
  {
   "cell_type": "markdown",
   "metadata": {},
   "source": [
    "**Random Forest w/ KMeans Clustering Test**"
   ]
  },
  {
   "cell_type": "code",
   "execution_count": 6,
   "metadata": {},
   "outputs": [],
   "source": [
    "from sklearn.ensemble import RandomForestRegressor\n",
    "from sklearn.model_selection import GridSearchCV\n",
    "from sklearn.pipeline import Pipeline\n",
    "from sklearn.preprocessing import StandardScaler"
   ]
  },
  {
   "cell_type": "code",
   "execution_count": 7,
   "metadata": {},
   "outputs": [],
   "source": [
    "import utils.clustering_tools_lib as ctl"
   ]
  },
  {
   "cell_type": "code",
   "execution_count": 8,
   "metadata": {},
   "outputs": [],
   "source": [
    "\n",
    "def fit_test_pipeline_1(data, labels):\n",
    "    rfkc_test_pipeline = Pipeline([\n",
    "        (\"kmeans\", KMeans(n_clusters=5, random_state=RANDOM_STATE)),\n",
    "        (\"rf_reg\", RandomForestRegressor(n_estimators=100, max_features=4))\n",
    "    ])\n",
    "    \n",
    "    rfkc_test_pipeline.fit(data, labels)\n",
    "    \n",
    "    return rfkc_test_pipeline"
   ]
  },
  {
   "cell_type": "code",
   "execution_count": 9,
   "metadata": {},
   "outputs": [],
   "source": [
    "param_grid = dict(kmeans__n_clusters=[10, 100, 1000])\n",
    "test_1 = fit_test_pipeline_1(train, train_labels)\n",
    "#grid_search = GridSearchCV(test_1, param_grid=param_grid)\n",
    "\n",
    "#grid_search.fit(train, train_labels)\n",
    "#dhl.save_model(grid_search, \"GridSearchRFRegTest1\")"
   ]
  },
  {
   "cell_type": "code",
   "execution_count": 10,
   "metadata": {},
   "outputs": [],
   "source": [
    "grid_search = dhl.load_object(\"models\", \"GridSearchRFRegTest1\")"
   ]
  },
  {
   "cell_type": "code",
   "execution_count": 11,
   "metadata": {},
   "outputs": [
    {
     "name": "stdout",
     "output_type": "stream",
     "text": [
      "\n",
      "0.1658962773804495\n",
      "{'kmeans__n_clusters': 1000}\n",
      "Pipeline(steps=[('kmeans', KMeans(n_clusters=1000, random_state=19)),\n",
      "                ('rf_reg', RandomForestRegressor(max_features=4))])\n"
     ]
    }
   ],
   "source": [
    "print(f\"\\n{grid_search.best_score_}\\n{grid_search.best_params_}\\n{grid_search.best_estimator_}\")"
   ]
  },
  {
   "cell_type": "code",
   "execution_count": 12,
   "metadata": {},
   "outputs": [],
   "source": [
    "#dhl.save_model(grid_search,filename=\"GridSearchRFRegTest1\")"
   ]
  },
  {
   "cell_type": "code",
   "execution_count": 13,
   "metadata": {},
   "outputs": [
    {
     "data": {
      "text/plain": [
       "KMeans(n_clusters=100)"
      ]
     },
     "execution_count": 13,
     "metadata": {},
     "output_type": "execute_result"
    }
   ],
   "source": [
    "kmeans = KMeans(n_clusters=100)\n",
    "kmeans.fit(train)"
   ]
  },
  {
   "cell_type": "code",
   "execution_count": 14,
   "metadata": {},
   "outputs": [
    {
     "data": {
      "text/html": [
       "<div>\n",
       "<style scoped>\n",
       "    .dataframe tbody tr th:only-of-type {\n",
       "        vertical-align: middle;\n",
       "    }\n",
       "\n",
       "    .dataframe tbody tr th {\n",
       "        vertical-align: top;\n",
       "    }\n",
       "\n",
       "    .dataframe thead th {\n",
       "        text-align: right;\n",
       "    }\n",
       "</style>\n",
       "<table border=\"1\" class=\"dataframe\">\n",
       "  <thead>\n",
       "    <tr style=\"text-align: right;\">\n",
       "      <th></th>\n",
       "      <th>fixed acidity</th>\n",
       "      <th>volatile acidity</th>\n",
       "      <th>citric acid</th>\n",
       "      <th>chlorides</th>\n",
       "      <th>density</th>\n",
       "      <th>alcohol</th>\n",
       "      <th>color</th>\n",
       "    </tr>\n",
       "  </thead>\n",
       "  <tbody>\n",
       "    <tr>\n",
       "      <th>1536</th>\n",
       "      <td>6.1</td>\n",
       "      <td>0.53</td>\n",
       "      <td>0.08</td>\n",
       "      <td>0.077</td>\n",
       "      <td>0.99528</td>\n",
       "      <td>10.3</td>\n",
       "      <td>1</td>\n",
       "    </tr>\n",
       "    <tr>\n",
       "      <th>2750</th>\n",
       "      <td>6.8</td>\n",
       "      <td>0.32</td>\n",
       "      <td>0.18</td>\n",
       "      <td>0.041</td>\n",
       "      <td>0.99590</td>\n",
       "      <td>8.9</td>\n",
       "      <td>0</td>\n",
       "    </tr>\n",
       "    <tr>\n",
       "      <th>4866</th>\n",
       "      <td>5.8</td>\n",
       "      <td>0.23</td>\n",
       "      <td>0.20</td>\n",
       "      <td>0.043</td>\n",
       "      <td>0.99226</td>\n",
       "      <td>10.2</td>\n",
       "      <td>0</td>\n",
       "    </tr>\n",
       "    <tr>\n",
       "      <th>3350</th>\n",
       "      <td>6.7</td>\n",
       "      <td>0.16</td>\n",
       "      <td>0.28</td>\n",
       "      <td>0.046</td>\n",
       "      <td>0.99210</td>\n",
       "      <td>11.4</td>\n",
       "      <td>0</td>\n",
       "    </tr>\n",
       "    <tr>\n",
       "      <th>2611</th>\n",
       "      <td>8.3</td>\n",
       "      <td>0.16</td>\n",
       "      <td>0.48</td>\n",
       "      <td>0.057</td>\n",
       "      <td>0.99430</td>\n",
       "      <td>10.3</td>\n",
       "      <td>0</td>\n",
       "    </tr>\n",
       "  </tbody>\n",
       "</table>\n",
       "</div>"
      ],
      "text/plain": [
       "      fixed acidity  volatile acidity  citric acid  chlorides  density  \\\n",
       "1536            6.1              0.53         0.08      0.077  0.99528   \n",
       "2750            6.8              0.32         0.18      0.041  0.99590   \n",
       "4866            5.8              0.23         0.20      0.043  0.99226   \n",
       "3350            6.7              0.16         0.28      0.046  0.99210   \n",
       "2611            8.3              0.16         0.48      0.057  0.99430   \n",
       "\n",
       "      alcohol  color  \n",
       "1536     10.3      1  \n",
       "2750      8.9      0  \n",
       "4866     10.2      0  \n",
       "3350     11.4      0  \n",
       "2611     10.3      0  "
      ]
     },
     "execution_count": 14,
     "metadata": {},
     "output_type": "execute_result"
    }
   ],
   "source": [
    "train.head()"
   ]
  },
  {
   "cell_type": "code",
   "execution_count": 15,
   "metadata": {},
   "outputs": [
    {
     "data": {
      "text/plain": [
       "['exports/misc/sil_scores_100.txt']"
      ]
     },
     "execution_count": 15,
     "metadata": {},
     "output_type": "execute_result"
    }
   ],
   "source": [
    "#sil_scores_100 = ctl.give_silhouette_scores(train, range_upper=100)\n",
    "#jbl.dump(sil_scores_100, \"exports/misc/sil_scores_100.txt\")\n",
    "\n",
    "sil_scores_100 = jbl.load(\"exports/misc/sil_scores_100.txt\")"
   ]
  },
  {
   "cell_type": "code",
   "execution_count": 16,
   "metadata": {},
   "outputs": [
    {
     "data": {
      "text/plain": [
       "[0.33347327520750863,\n",
       " 0.3952250376338664,\n",
       " 0.3471786397993216,\n",
       " 0.31692909058479524,\n",
       " 0.31511409116180256,\n",
       " 0.2931915872838805,\n",
       " 0.295154187746664,\n",
       " 0.30991388341634335,\n",
       " 0.29983377078579887,\n",
       " 0.29368255170772395,\n",
       " 0.2971674033546985,\n",
       " 0.306745113033609,\n",
       " 0.30530978750782706,\n",
       " 0.30781980409940407,\n",
       " 0.3060920310353682,\n",
       " 0.309674249445368,\n",
       " 0.29480257797005677,\n",
       " 0.29791820376832623,\n",
       " 0.2999477778855596,\n",
       " 0.30124795076795097,\n",
       " 0.3018983975390844,\n",
       " 0.29687516321902824,\n",
       " 0.294744646470934,\n",
       " 0.29631731727317134,\n",
       " 0.2946187976055052,\n",
       " 0.2913584029598098,\n",
       " 0.2887119820234276,\n",
       " 0.29324712334785186,\n",
       " 0.29707371878825,\n",
       " 0.29354542665436373,\n",
       " 0.294841667900721,\n",
       " 0.29664873988523455,\n",
       " 0.29891451879137376,\n",
       " 0.29643441925325503,\n",
       " 0.2944981899170945,\n",
       " 0.29805216269688906,\n",
       " 0.29278381704727324,\n",
       " 0.2908379085662341,\n",
       " 0.2929228079666813,\n",
       " 0.2851312385035041,\n",
       " 0.2870595865500473,\n",
       " 0.29158409691668763,\n",
       " 0.28630367579263977,\n",
       " 0.29314350267433437,\n",
       " 0.28618145991332933,\n",
       " 0.2906434554257875,\n",
       " 0.2834701244405416,\n",
       " 0.2816487335958967,\n",
       " 0.2839856999596626,\n",
       " 0.2846798602551419,\n",
       " 0.28600345238589214,\n",
       " 0.29012299719601886,\n",
       " 0.2932224614041482,\n",
       " 0.281026053517475,\n",
       " 0.2847740216837913,\n",
       " 0.2804665303369764,\n",
       " 0.27832458797822657,\n",
       " 0.2793296996464209,\n",
       " 0.2882086831772499,\n",
       " 0.28508208246161654,\n",
       " 0.2846641242973367,\n",
       " 0.2788404180755462,\n",
       " 0.2818515687492015,\n",
       " 0.2876744688436346,\n",
       " 0.2848462116565838,\n",
       " 0.2850246542108906,\n",
       " 0.2834821414957107,\n",
       " 0.27790125340951344,\n",
       " 0.2724299272329033,\n",
       " 0.280835071916806,\n",
       " 0.2779335351533266,\n",
       " 0.28116248972217905,\n",
       " 0.28206638786991534,\n",
       " 0.2827733911191976,\n",
       " 0.2829510403163355,\n",
       " 0.2748717167095111,\n",
       " 0.2793021721056512,\n",
       " 0.27294658486296103,\n",
       " 0.2731172942046456,\n",
       " 0.27542068491561233,\n",
       " 0.2740418047564872,\n",
       " 0.2709586673599084,\n",
       " 0.27573516739951215,\n",
       " 0.2746093383758711,\n",
       " 0.27627610548573855,\n",
       " 0.27415012508146425,\n",
       " 0.2749500992507352,\n",
       " 0.27777288643275355,\n",
       " 0.2714257814703378,\n",
       " 0.26953324256821704,\n",
       " 0.2697397227202667,\n",
       " 0.27148866053199155,\n",
       " 0.27009727535248496,\n",
       " 0.2715051642527276,\n",
       " 0.26627475942477774,\n",
       " 0.26947509961626354,\n",
       " 0.26666476901838226,\n",
       " 0.27124436081282727]"
      ]
     },
     "execution_count": 16,
     "metadata": {},
     "output_type": "execute_result"
    }
   ],
   "source": [
    "sil_scores_100"
   ]
  },
  {
   "cell_type": "code",
   "execution_count": 17,
   "metadata": {},
   "outputs": [
    {
     "data": {
      "image/png": "[encoded data removed]",
      "text/plain": [
       "<Figure size 576x216 with 1 Axes>"
      ]
     },
     "metadata": {
      "needs_background": "light"
     },
     "output_type": "display_data"
    }
   ],
   "source": [
    "gl.plot_silhouette_scores(sil_scores_100, 100)"
   ]
  },
  {
   "cell_type": "code",
   "execution_count": 19,
   "metadata": {},
   "outputs": [
    {
     "data": {
      "text/plain": [
       "['exports/misc/sil_scores_15.txt']"
      ]
     },
     "execution_count": 19,
     "metadata": {},
     "output_type": "execute_result"
    }
   ],
   "source": [
    "sil_scores_15 = ctl.give_silhouette_scores(train, range_upper=15)\n",
    "#jbl.dump(sil_scores_15, \"exports/misc/sil_scores_15.txt\")"
   ]
  },
  {
   "cell_type": "code",
   "execution_count": 21,
   "metadata": {},
   "outputs": [
    {
     "data": {
      "image/png": "[encoded data removed]",
      "text/plain": [
       "<Figure size 576x216 with 1 Axes>"
      ]
     },
     "metadata": {
      "needs_background": "light"
     },
     "output_type": "display_data"
    }
   ],
   "source": [
    "gl.plot_silhouette_scores(sil_scores_15, range_upper=15)"
   ]
  },
  {
   "cell_type": "code",
   "execution_count": null,
   "metadata": {},
   "outputs": [],
   "source": []
  }
 ],
 "metadata": {
  "interpreter": {
   "hash": "b89b5cfaba6639976dc87ff2fec6d58faec662063367e2c229c520fe71072417"
  },
  "kernelspec": {
   "display_name": "Python 3.10.0 64-bit",
   "language": "python",
   "name": "python3"
  },
  "language_info": {
   "codemirror_mode": {
    "name": "ipython",
    "version": 3
   },
   "file_extension": ".py",
   "mimetype": "text/x-python",
   "name": "python",
   "nbconvert_exporter": "python",
   "pygments_lexer": "ipython3",
   "version": "3.9.12"
  },
  "orig_nbformat": 4
 },
 "nbformat": 4,
 "nbformat_minor": 2
}
