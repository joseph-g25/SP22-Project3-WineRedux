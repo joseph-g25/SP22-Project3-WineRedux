{
 "cells": [
  {
   "cell_type": "markdown",
   "metadata": {},
   "source": [
    "**Test Environment Notebook**\n",
    "------"
   ]
  },
  {
   "cell_type": "code",
   "execution_count": 1,
   "metadata": {},
   "outputs": [],
   "source": [
    "### Tool imports\n",
    "import joblib as jbl\n",
    "import pandas as pd\n",
    "import numpy as np\n",
    "import matplotlib.pyplot as plt\n",
    "\n",
    "### sklearn tool imports\n",
    "from sklearn.cluster import KMeans, MiniBatchKMeans\n",
    "from sklearn.model_selection import GridSearchCV\n",
    "from sklearn.pipeline import Pipeline\n",
    "from sklearn.preprocessing import StandardScaler\n",
    "\n",
    "### sklearn model imports\n",
    "from sklearn.ensemble import RandomForestRegressor\n",
    "from sklearn.svm import SVR\n",
    "from sklearn.linear_model import LinearRegression\n",
    "\n",
    "### Local imports\n",
    "import utils.data_handling_lib as dhl\n",
    "import utils.graphics_lib as gl\n",
    "\n",
    "from utils.data_handling_lib import RANDOM_STATE"
   ]
  },
  {
   "cell_type": "markdown",
   "metadata": {},
   "source": [
    "Create raw test dataset"
   ]
  },
  {
   "cell_type": "code",
   "execution_count": 2,
   "metadata": {},
   "outputs": [],
   "source": [
    "dataset_file_path = \"datasets/winequality-combined.csv\"\n",
    "test_raw_data = dhl.load_data(dataset_file_path)"
   ]
  },
  {
   "cell_type": "code",
   "execution_count": 4,
   "metadata": {},
   "outputs": [],
   "source": [
    "#sil_scores_100 = ctl.give_silhouette_scores(train, range_upper=100)\n",
    "#jbl.dump(sil_scores_100, \"exports/misc/sil_scores_100.txt\")\n",
    "\n",
    "sil_scores_100 = jbl.load(\"exports/misc/sil_scores_100.txt\")"
   ]
  },
  {
   "cell_type": "code",
   "execution_count": 5,
   "metadata": {},
   "outputs": [
    {
     "data": {
      "image/png": "[encoded data removed]",
      "text/plain": [
       "<Figure size 576x216 with 1 Axes>"
      ]
     },
     "metadata": {
      "needs_background": "light"
     },
     "output_type": "display_data"
    }
   ],
   "source": [
    "gl.plot_silhouette_scores(sil_scores_100, var_name=\"X_train_drop_train_env_1\")"
   ]
  },
  {
   "cell_type": "markdown",
   "metadata": {},
   "source": [
    "Test for large numbers of clusters, performance stagnates as k increases."
   ]
  },
  {
   "cell_type": "code",
   "execution_count": 6,
   "metadata": {},
   "outputs": [],
   "source": [
    "#sil_scores_15 = ctl.get_silhouette_scores(train, range_upper=15)\n",
    "#jbl.dump(sil_scores_15, \"exports/misc/sil_scores_15.txt\")\n",
    "\n",
    "sil_scores_15 = jbl.load(\"exports/misc/sil_scores_15.txt\")"
   ]
  },
  {
   "cell_type": "code",
   "execution_count": 7,
   "metadata": {},
   "outputs": [
    {
     "data": {
      "image/png": "[encoded data removed]",
      "text/plain": [
       "<Figure size 576x216 with 1 Axes>"
      ]
     },
     "metadata": {
      "needs_background": "light"
     },
     "output_type": "display_data"
    }
   ],
   "source": [
    "gl.plot_silhouette_scores(sil_scores_15, var_name=\"X_train_drop_train_env_2\")"
   ]
  },
  {
   "cell_type": "markdown",
   "metadata": {},
   "source": [
    "This drop set also performs relatively poorly."
   ]
  },
  {
   "cell_type": "markdown",
   "metadata": {},
   "source": [
    "**Testing SVR and RandomForestRegressor with Highest-Performing Clustered Drop Sets**\n",
    "\n",
    "The first example will use a set of variables tagged \"df2\" for \"drop_features_2\", and will be compared to a model fit to the original training set.\n",
    "A more condensed version will be created with \"df3\"."
   ]
  },
  {
   "cell_type": "markdown",
   "metadata": {},
   "source": [
    "Import data into a new frame to copy from"
   ]
  },
  {
   "cell_type": "code",
   "execution_count": 8,
   "metadata": {},
   "outputs": [],
   "source": [
    "test_raw_data2 = dhl.load_data()\n",
    "X_train_raw, y_train, X_test_raw, y_test = dhl.strat_split_dataset(X=test_raw_data2, label_id=\"quality\")"
   ]
  },
  {
   "cell_type": "markdown",
   "metadata": {},
   "source": [
    "drop_features_n lists copied from explore environment"
   ]
  },
  {
   "cell_type": "code",
   "execution_count": 9,
   "metadata": {},
   "outputs": [],
   "source": [
    "### Included: free sulphur dioxide, total sulfur dioxide, pH, sulphates, alcohol\n",
    "included_features_2 = [\"free sulfur dioxide\", \"total sulfur dioxide\", \"pH\", \"sulphates\", \"alcohol\"]\n",
    "drop_features_2 = [\"fixed acidity\", \"volatile acidity\", \"density\", \"residual sugar\", \"chlorides\", \"citric acid\", \"color\"]\n",
    "X_train_drop2, X_test_drop2 = X_train_raw.drop(drop_features_2, axis=1), X_test_raw.drop(drop_features_2, axis=1)\n",
    "\n",
    "### Included: Volatile acidity, alcohol, density\n",
    "included_features_3 = [\"volatile acidity\", \"alcohol\", \"density\"]\n",
    "# Overaggressive and will likely overfit, but interesting to see.\n",
    "drop_features_3 = [\"fixed acidity\",\"citric acid\",\"residual sugar\",\"chlorides\",\"free sulfur dioxide\",\"total sulfur dioxide\",\"pH\",\"sulphates\",\"color\"]\n",
    "X_train_drop3, X_test_drop3 = X_train_raw.drop(drop_features_3, axis=1), X_test_raw.drop(drop_features_3, axis=1)"
   ]
  },
  {
   "cell_type": "markdown",
   "metadata": {},
   "source": [
    "Create and fit KMeans object, and append clustering results to original dataframe"
   ]
  },
  {
   "cell_type": "code",
   "execution_count": 10,
   "metadata": {},
   "outputs": [],
   "source": [
    "kmeans_df2 = KMeans(\n",
    "    n_clusters=2,\n",
    "    n_init=10,\n",
    "    max_iter=300,\n",
    "    random_state=RANDOM_STATE\n",
    ")\n",
    "\n",
    "# Fit to the training data\n",
    "kmeans_df2.fit(X_train_drop2)\n",
    "\n",
    "new_X_train_df2 = X_train_raw.drop(included_features_2, axis=1)\n",
    "new_X_test_df2 = X_test_raw.drop(included_features_2, axis=1)\n",
    "\n",
    "# Generate out clusters\n",
    "train_cluster_df2 = kmeans_df2.predict(X_train_drop2)\n",
    "test_cluster_df2 = kmeans_df2.predict(X_test_drop2)"
   ]
  },
  {
   "cell_type": "code",
   "execution_count": 11,
   "metadata": {},
   "outputs": [],
   "source": [
    "# Add the target and predicted clusters to our training DataFrame\n",
    "new_X_train_df2.insert(7, 'cluster', train_cluster_df2) \n",
    "new_X_test_df2.insert(7, 'cluster', test_cluster_df2)"
   ]
  },
  {
   "cell_type": "markdown",
   "metadata": {},
   "source": [
    "Create df2 and original model objects"
   ]
  },
  {
   "cell_type": "code",
   "execution_count": 12,
   "metadata": {},
   "outputs": [],
   "source": [
    "svr_df2 = SVR(kernel=\"rbf\")\n",
    "rf_reg_df2 = RandomForestRegressor(n_estimators=1000, random_state=RANDOM_STATE)\n",
    "lin_reg_df2 = LinearRegression()\n",
    "\n",
    "svr_ori = SVR(kernel=\"rbf\")\n",
    "rf_reg_ori = RandomForestRegressor(n_estimators=1000, random_state=RANDOM_STATE)\n",
    "lin_reg_ori = LinearRegression()"
   ]
  },
  {
   "cell_type": "markdown",
   "metadata": {},
   "source": [
    "Fit each model"
   ]
  },
  {
   "cell_type": "code",
   "execution_count": 13,
   "metadata": {},
   "outputs": [
    {
     "data": {
      "text/plain": [
       "SVR()"
      ]
     },
     "execution_count": 13,
     "metadata": {},
     "output_type": "execute_result"
    }
   ],
   "source": [
    "# SVR\n",
    "svr_df2.fit(new_X_train_df2, y_train)\n",
    "svr_ori.fit(X_train_raw, y_train)"
   ]
  },
  {
   "cell_type": "code",
   "execution_count": 14,
   "metadata": {},
   "outputs": [
    {
     "data": {
      "text/plain": [
       "RandomForestRegressor(n_estimators=1000, random_state=17)"
      ]
     },
     "execution_count": 14,
     "metadata": {},
     "output_type": "execute_result"
    }
   ],
   "source": [
    "# Random Forest\n",
    "rf_reg_df2.fit(new_X_train_df2, y_train)\n",
    "rf_reg_ori.fit(X_train_raw, y_train)"
   ]
  },
  {
   "cell_type": "code",
   "execution_count": 15,
   "metadata": {},
   "outputs": [
    {
     "data": {
      "text/plain": [
       "LinearRegression()"
      ]
     },
     "execution_count": 15,
     "metadata": {},
     "output_type": "execute_result"
    }
   ],
   "source": [
    "# Linear Regression\n",
    "lin_reg_df2.fit(new_X_train_df2, y_train)\n",
    "lin_reg_ori.fit(X_train_raw, y_train)"
   ]
  },
  {
   "cell_type": "markdown",
   "metadata": {},
   "source": [
    "Scores"
   ]
  },
  {
   "cell_type": "code",
   "execution_count": 16,
   "metadata": {},
   "outputs": [],
   "source": [
    "df2_models = [svr_df2, rf_reg_df2, lin_reg_df2]\n",
    "ori_models = [svr_ori, rf_reg_ori, lin_reg_ori]\n",
    "\n",
    "def print_scores(models, X, y):\n",
    "    for model in models:\n",
    "        print(f\"{model.__getattribute__}: {model.score(X=X, y=y)}\")"
   ]
  },
  {
   "cell_type": "code",
   "execution_count": 17,
   "metadata": {},
   "outputs": [
    {
     "name": "stdout",
     "output_type": "stream",
     "text": [
      "<method-wrapper '__getattribute__' of SVR object at 0x00000211EBD1F430>: 0.10401714740243884\n",
      "<method-wrapper '__getattribute__' of RandomForestRegressor object at 0x00000211EBD1F190>: 0.45924614225856286\n",
      "<method-wrapper '__getattribute__' of LinearRegression object at 0x00000211AD455D30>: 0.2267074903013867\n",
      "<method-wrapper '__getattribute__' of SVR object at 0x00000211EBD319A0>: 0.15755139312705313\n",
      "<method-wrapper '__getattribute__' of RandomForestRegressor object at 0x00000211EBD31910>: 0.5233800271378029\n",
      "<method-wrapper '__getattribute__' of LinearRegression object at 0x00000211AD26AF40>: 0.2815441120683513\n"
     ]
    }
   ],
   "source": [
    "print_scores(df2_models, new_X_test_df2, y_test)\n",
    "print_scores(ori_models, X_test_raw, y_test)"
   ]
  },
  {
   "cell_type": "markdown",
   "metadata": {},
   "source": [
    "The scores appear to show that the RandomForestRegressor has the best performance, although it performs slightly worse with KMeans clustering."
   ]
  },
  {
   "cell_type": "markdown",
   "metadata": {},
   "source": [
    "Testing RandomForestRegressor with df3"
   ]
  },
  {
   "cell_type": "code",
   "execution_count": 18,
   "metadata": {},
   "outputs": [
    {
     "name": "stdout",
     "output_type": "stream",
     "text": [
      "KMeans clustered regressor score: \n",
      " 0.47549295714843365 \n",
      "\n",
      "Original regressor score: \n",
      " 0.5233800271378029\n"
     ]
    }
   ],
   "source": [
    "kmeans_df3 = KMeans(\n",
    "    n_clusters=2,\n",
    "    n_init=10,\n",
    "    max_iter=300,\n",
    "    random_state=RANDOM_STATE\n",
    ")\n",
    "\n",
    "# Fit to the training data\n",
    "kmeans_df3.fit(X_train_drop3)\n",
    "\n",
    "new_X_train_df3 = X_train_raw.drop(included_features_3, axis=1)\n",
    "new_X_test_df3 = X_test_raw.drop(included_features_3, axis=1)\n",
    "\n",
    "# Generate out clusters\n",
    "train_cluster_df3 = kmeans_df3.predict(X_train_drop3)\n",
    "test_cluster_df3 = kmeans_df3.predict(X_test_drop3)\n",
    "\n",
    "# Add the target and predicted clusters to our training DataFrame\n",
    "new_X_train_df3.insert(7,'cluster', train_cluster_df3) \n",
    "new_X_test_df3.insert(7, \"cluster\", test_cluster_df3)\n",
    "\n",
    "rf_reg_df3 = RandomForestRegressor(n_estimators=1000, random_state=RANDOM_STATE)\n",
    "\n",
    "rf_reg_df3.fit(new_X_train_df3, y_train)\n",
    "rfr_df3_score = rf_reg_df3.score(new_X_test_df3, y_test)\n",
    "\n",
    "rfr_ori_score = rf_reg_ori.score(X_test_raw, y_test)\n",
    "\n",
    "print(f\"KMeans clustered regressor score: \\n {rfr_df3_score}\",\n",
    "      f\"\\n\\nOriginal regressor score: \\n {rfr_ori_score}\")"
   ]
  },
  {
   "cell_type": "markdown",
   "metadata": {},
   "source": [
    "This selection of variables leads to marginally better performance"
   ]
  }
 ],
 "metadata": {
  "interpreter": {
   "hash": "ca24b61ab186ef647d07018d3b1b3cbc1eeae7fa1c2b9e222bb93dc5cdd9ae0c"
  },
  "kernelspec": {
   "display_name": "Python 3.9.12 ('.venv': venv)",
   "language": "python",
   "name": "python3"
  },
  "language_info": {
   "codemirror_mode": {
    "name": "ipython",
    "version": 3
   },
   "file_extension": ".py",
   "mimetype": "text/x-python",
   "name": "python",
   "nbconvert_exporter": "python",
   "pygments_lexer": "ipython3",
   "version": "3.9.12"
  },
  "orig_nbformat": 4
 },
 "nbformat": 4,
 "nbformat_minor": 2
}
