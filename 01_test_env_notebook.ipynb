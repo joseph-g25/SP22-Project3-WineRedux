{
 "cells": [
  {
   "cell_type": "markdown",
   "metadata": {},
   "source": [
    "**Test Environment Notebook**\n",
    "------"
   ]
  },
  {
   "cell_type": "code",
   "execution_count": 1,
   "metadata": {},
   "outputs": [],
   "source": [
    "### Tool imports\n",
    "import joblib as jbl\n",
    "import pandas as pd\n",
    "import numpy as np\n",
    "import matplotlib.pyplot as plt\n",
    "\n",
    "### sklearn imports\n",
    "from sklearn.cluster import KMeans, MiniBatchKMeans\n",
    "\n",
    "### Local imports\n",
    "import utils.data_handling_lib as dhl\n",
    "import utils.graphics_lib as gl\n",
    "\n",
    "from utils.data_handling_lib import RANDOM_STATE"
   ]
  },
  {
   "cell_type": "markdown",
   "metadata": {},
   "source": [
    "Create raw test dataset"
   ]
  },
  {
   "cell_type": "code",
   "execution_count": 2,
   "metadata": {},
   "outputs": [],
   "source": [
    "dataset_file_path = \"datasets/winequality-combined.csv\"\n",
    "test_raw_data = dhl.load_data(dataset_file_path)"
   ]
  },
  {
   "cell_type": "markdown",
   "metadata": {},
   "source": [
    "Reduced features test"
   ]
  },
  {
   "cell_type": "code",
   "execution_count": 3,
   "metadata": {},
   "outputs": [],
   "source": [
    "test_reduced_raw_data = test_raw_data.copy()\n",
    "\n",
    "test_reduced_raw_data.drop([\"free sulfur dioxide\", \"total sulfur dioxide\", \"pH\", \"residual sugar\", \"sulphates\"], axis=1, inplace=True)"
   ]
  },
  {
   "cell_type": "markdown",
   "metadata": {},
   "source": [
    "Split dataset"
   ]
  },
  {
   "cell_type": "code",
   "execution_count": 4,
   "metadata": {},
   "outputs": [],
   "source": [
    "train, train_labels, test, test_labels = dhl.strat_split_dataset(test_reduced_raw_data, \"quality\", 1)"
   ]
  },
  {
   "cell_type": "code",
   "execution_count": 5,
   "metadata": {},
   "outputs": [
    {
     "name": "stdout",
     "output_type": "stream",
     "text": [
      "      fixed acidity  volatile acidity  citric acid  chlorides  density  \\\n",
      "3417            6.0              0.26         0.29      0.032   0.9896   \n",
      "1904            7.3              0.41         0.24      0.057   0.9949   \n",
      "3777            7.6              0.32         0.58      0.050   0.9999   \n",
      "3337            7.5              0.15         0.38      0.054   0.9946   \n",
      "70              7.7              0.63         0.08      0.076   0.9967   \n",
      "\n",
      "      alcohol  color  \n",
      "3417     12.3      0  \n",
      "1904      9.9      0  \n",
      "3777      9.2      0  \n",
      "3337     10.0      0  \n",
      "70        9.5      1  \n"
     ]
    }
   ],
   "source": [
    "print(train.head())"
   ]
  },
  {
   "cell_type": "markdown",
   "metadata": {},
   "source": [
    "**Random Forest w/ KMeans Clustering Test**"
   ]
  },
  {
   "cell_type": "code",
   "execution_count": 6,
   "metadata": {},
   "outputs": [],
   "source": [
    "from sklearn.ensemble import RandomForestRegressor\n",
    "from sklearn.model_selection import GridSearchCV\n",
    "from sklearn.pipeline import Pipeline\n",
    "from sklearn.preprocessing import StandardScaler"
   ]
  },
  {
   "cell_type": "code",
   "execution_count": 7,
   "metadata": {},
   "outputs": [],
   "source": [
    "import utils.clustering_tools_lib as ctl"
   ]
  },
  {
   "cell_type": "code",
   "execution_count": 8,
   "metadata": {},
   "outputs": [],
   "source": [
    "\n",
    "def fit_test_pipeline_1(data, labels):\n",
    "    rfkc_test_pipeline = Pipeline([\n",
    "        (\"kmeans\", KMeans(n_clusters=5, random_state=RANDOM_STATE)),\n",
    "        (\"rf_reg\", RandomForestRegressor(n_estimators=100, max_features=4))\n",
    "    ])\n",
    "    \n",
    "    rfkc_test_pipeline.fit(data, labels)\n",
    "    \n",
    "    return rfkc_test_pipeline"
   ]
  },
  {
   "cell_type": "code",
   "execution_count": 9,
   "metadata": {},
   "outputs": [],
   "source": [
    "param_grid = dict(kmeans__n_clusters=[10, 100, 1000])\n",
    "test_1 = fit_test_pipeline_1(train, train_labels)\n",
    "#grid_search = GridSearchCV(test_1, param_grid=param_grid)\n",
    "\n",
    "#grid_search.fit(train, train_labels)\n",
    "#dhl.save_model(grid_search, \"GridSearchRFRegTest1\")"
   ]
  },
  {
   "cell_type": "code",
   "execution_count": 10,
   "metadata": {},
   "outputs": [],
   "source": [
    "grid_search = dhl.load_object(\"models\", \"GridSearchRFRegTest1\")"
   ]
  },
  {
   "cell_type": "code",
   "execution_count": 11,
   "metadata": {},
   "outputs": [
    {
     "name": "stdout",
     "output_type": "stream",
     "text": [
      "\n",
      "0.1658962773804495\n",
      "{'kmeans__n_clusters': 1000}\n",
      "Pipeline(steps=[('kmeans', KMeans(n_clusters=1000, random_state=19)),\n",
      "                ('rf_reg', RandomForestRegressor(max_features=4))])\n"
     ]
    }
   ],
   "source": [
    "print(f\"\\n{grid_search.best_score_}\\n{grid_search.best_params_}\\n{grid_search.best_estimator_}\")"
   ]
  },
  {
   "cell_type": "code",
   "execution_count": 12,
   "metadata": {},
   "outputs": [],
   "source": [
    "#dhl.save_model(grid_search,filename=\"GridSearchRFRegTest1\")"
   ]
  },
  {
   "cell_type": "code",
   "execution_count": 13,
   "metadata": {},
   "outputs": [
    {
     "data": {
      "text/plain": [
       "KMeans(n_clusters=100)"
      ]
     },
     "execution_count": 13,
     "metadata": {},
     "output_type": "execute_result"
    }
   ],
   "source": [
    "kmeans = KMeans(n_clusters=100)\n",
    "kmeans.fit(train)"
   ]
  },
  {
   "cell_type": "code",
   "execution_count": 14,
   "metadata": {},
   "outputs": [
    {
     "data": {
      "text/html": [
       "<div>\n",
       "<style scoped>\n",
       "    .dataframe tbody tr th:only-of-type {\n",
       "        vertical-align: middle;\n",
       "    }\n",
       "\n",
       "    .dataframe tbody tr th {\n",
       "        vertical-align: top;\n",
       "    }\n",
       "\n",
       "    .dataframe thead th {\n",
       "        text-align: right;\n",
       "    }\n",
       "</style>\n",
       "<table border=\"1\" class=\"dataframe\">\n",
       "  <thead>\n",
       "    <tr style=\"text-align: right;\">\n",
       "      <th></th>\n",
       "      <th>fixed acidity</th>\n",
       "      <th>volatile acidity</th>\n",
       "      <th>citric acid</th>\n",
       "      <th>chlorides</th>\n",
       "      <th>density</th>\n",
       "      <th>alcohol</th>\n",
       "      <th>color</th>\n",
       "    </tr>\n",
       "  </thead>\n",
       "  <tbody>\n",
       "    <tr>\n",
       "      <th>3417</th>\n",
       "      <td>6.0</td>\n",
       "      <td>0.26</td>\n",
       "      <td>0.29</td>\n",
       "      <td>0.032</td>\n",
       "      <td>0.9896</td>\n",
       "      <td>12.3</td>\n",
       "      <td>0</td>\n",
       "    </tr>\n",
       "    <tr>\n",
       "      <th>1904</th>\n",
       "      <td>7.3</td>\n",
       "      <td>0.41</td>\n",
       "      <td>0.24</td>\n",
       "      <td>0.057</td>\n",
       "      <td>0.9949</td>\n",
       "      <td>9.9</td>\n",
       "      <td>0</td>\n",
       "    </tr>\n",
       "    <tr>\n",
       "      <th>3777</th>\n",
       "      <td>7.6</td>\n",
       "      <td>0.32</td>\n",
       "      <td>0.58</td>\n",
       "      <td>0.050</td>\n",
       "      <td>0.9999</td>\n",
       "      <td>9.2</td>\n",
       "      <td>0</td>\n",
       "    </tr>\n",
       "    <tr>\n",
       "      <th>3337</th>\n",
       "      <td>7.5</td>\n",
       "      <td>0.15</td>\n",
       "      <td>0.38</td>\n",
       "      <td>0.054</td>\n",
       "      <td>0.9946</td>\n",
       "      <td>10.0</td>\n",
       "      <td>0</td>\n",
       "    </tr>\n",
       "    <tr>\n",
       "      <th>70</th>\n",
       "      <td>7.7</td>\n",
       "      <td>0.63</td>\n",
       "      <td>0.08</td>\n",
       "      <td>0.076</td>\n",
       "      <td>0.9967</td>\n",
       "      <td>9.5</td>\n",
       "      <td>1</td>\n",
       "    </tr>\n",
       "  </tbody>\n",
       "</table>\n",
       "</div>"
      ],
      "text/plain": [
       "      fixed acidity  volatile acidity  citric acid  chlorides  density  \\\n",
       "3417            6.0              0.26         0.29      0.032   0.9896   \n",
       "1904            7.3              0.41         0.24      0.057   0.9949   \n",
       "3777            7.6              0.32         0.58      0.050   0.9999   \n",
       "3337            7.5              0.15         0.38      0.054   0.9946   \n",
       "70              7.7              0.63         0.08      0.076   0.9967   \n",
       "\n",
       "      alcohol  color  \n",
       "3417     12.3      0  \n",
       "1904      9.9      0  \n",
       "3777      9.2      0  \n",
       "3337     10.0      0  \n",
       "70        9.5      1  "
      ]
     },
     "execution_count": 14,
     "metadata": {},
     "output_type": "execute_result"
    }
   ],
   "source": [
    "train.head()"
   ]
  },
  {
   "cell_type": "code",
   "execution_count": 15,
   "metadata": {},
   "outputs": [],
   "source": [
    "#sil_scores_100 = ctl.give_silhouette_scores(train, range_upper=100)\n",
    "#jbl.dump(sil_scores_100, \"exports/misc/sil_scores_100.txt\")\n",
    "\n",
    "sil_scores_100 = jbl.load(\"exports/misc/sil_scores_100.txt\")"
   ]
  },
  {
   "cell_type": "code",
   "execution_count": 16,
   "metadata": {},
   "outputs": [
    {
     "name": "stdout",
     "output_type": "stream",
     "text": [
      "Saving figure 4_silhouette_scores\n"
     ]
    },
    {
     "data": {
      "image/png": "[encoded data removed]",
      "text/plain": [
       "<Figure size 576x216 with 1 Axes>"
      ]
     },
     "metadata": {
      "needs_background": "light"
     },
     "output_type": "display_data"
    }
   ],
   "source": [
    "gl.plot_silhouette_scores(sil_scores_100, var_name=\"X_train_drop_train_env_1\", savefig=True)"
   ]
  },
  {
   "cell_type": "code",
   "execution_count": 17,
   "metadata": {},
   "outputs": [],
   "source": [
    "#sil_scores_15 = ctl.get_silhouette_scores(train, range_upper=15)\n",
    "#jbl.dump(sil_scores_15, \"exports/misc/sil_scores_15.txt\")\n",
    "\n",
    "sil_scores_15 = jbl.load(\"exports/misc/sil_scores_15.txt\")"
   ]
  },
  {
   "cell_type": "code",
   "execution_count": 18,
   "metadata": {},
   "outputs": [
    {
     "name": "stdout",
     "output_type": "stream",
     "text": [
      "Saving figure 5_silhouette_scores\n"
     ]
    },
    {
     "data": {
      "image/png": "[encoded data removed]",
      "text/plain": [
       "<Figure size 576x216 with 1 Axes>"
      ]
     },
     "metadata": {
      "needs_background": "light"
     },
     "output_type": "display_data"
    }
   ],
   "source": [
    "gl.plot_silhouette_scores(sil_scores_15, var_name=\"X_train_drop_train_env_2\", savefig=True)"
   ]
  },
  {
   "cell_type": "code",
   "execution_count": null,
   "metadata": {},
   "outputs": [],
   "source": []
  }
 ],
 "metadata": {
  "interpreter": {
   "hash": "b89b5cfaba6639976dc87ff2fec6d58faec662063367e2c229c520fe71072417"
  },
  "kernelspec": {
   "display_name": "Python 3.10.0 64-bit",
   "language": "python",
   "name": "python3"
  },
  "language_info": {
   "codemirror_mode": {
    "name": "ipython",
    "version": 3
   },
   "file_extension": ".py",
   "mimetype": "text/x-python",
   "name": "python",
   "nbconvert_exporter": "python",
   "pygments_lexer": "ipython3",
   "version": "3.9.12"
  },
  "orig_nbformat": 4
 },
 "nbformat": 4,
 "nbformat_minor": 2
}
