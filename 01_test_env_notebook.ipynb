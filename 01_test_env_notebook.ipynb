{
 "cells": [
  {
   "cell_type": "markdown",
   "metadata": {},
   "source": [
    "**Test Environment Notebook**\n",
    "------"
   ]
  },
  {
   "cell_type": "code",
   "execution_count": 33,
   "metadata": {},
   "outputs": [],
   "source": [
    "### Tool imports\n",
    "import os\n",
    "import pandas as pd\n",
    "import numpy as np\n",
    "import matplotlib.pyplot as plt\n",
    "\n",
    "### sklearn imports\n",
    "from sklearn.cluster import KMeans, MiniBatchKMeans\n",
    "\n",
    "### Local imports\n",
    "import utils.data_handling_lib as dhl\n",
    "import utils.graphics_lib as gl\n",
    "\n",
    "from utils.data_handling_lib import RANDOM_STATE"
   ]
  },
  {
   "cell_type": "markdown",
   "metadata": {},
   "source": [
    "Create raw test dataset"
   ]
  },
  {
   "cell_type": "code",
   "execution_count": 34,
   "metadata": {},
   "outputs": [],
   "source": [
    "dataset_file_path = \"../datasets/winequality-combined.csv\"\n",
    "test_raw_data = dhl.load_data(dataset_file_path)"
   ]
  },
  {
   "cell_type": "markdown",
   "metadata": {},
   "source": [
    "Reduced features test"
   ]
  },
  {
   "cell_type": "code",
   "execution_count": 35,
   "metadata": {},
   "outputs": [
    {
     "data": {
      "text/html": [
       "<div>\n",
       "<style scoped>\n",
       "    .dataframe tbody tr th:only-of-type {\n",
       "        vertical-align: middle;\n",
       "    }\n",
       "\n",
       "    .dataframe tbody tr th {\n",
       "        vertical-align: top;\n",
       "    }\n",
       "\n",
       "    .dataframe thead th {\n",
       "        text-align: right;\n",
       "    }\n",
       "</style>\n",
       "<table border=\"1\" class=\"dataframe\">\n",
       "  <thead>\n",
       "    <tr style=\"text-align: right;\">\n",
       "      <th></th>\n",
       "      <th>fixed acidity</th>\n",
       "      <th>volatile acidity</th>\n",
       "      <th>citric acid</th>\n",
       "      <th>chlorides</th>\n",
       "      <th>density</th>\n",
       "      <th>alcohol</th>\n",
       "      <th>quality</th>\n",
       "      <th>color</th>\n",
       "    </tr>\n",
       "  </thead>\n",
       "  <tbody>\n",
       "    <tr>\n",
       "      <th>0</th>\n",
       "      <td>7.4</td>\n",
       "      <td>0.70</td>\n",
       "      <td>0.00</td>\n",
       "      <td>0.076</td>\n",
       "      <td>0.99780</td>\n",
       "      <td>9.4</td>\n",
       "      <td>5</td>\n",
       "      <td>1</td>\n",
       "    </tr>\n",
       "    <tr>\n",
       "      <th>1</th>\n",
       "      <td>7.8</td>\n",
       "      <td>0.88</td>\n",
       "      <td>0.00</td>\n",
       "      <td>0.098</td>\n",
       "      <td>0.99680</td>\n",
       "      <td>9.8</td>\n",
       "      <td>5</td>\n",
       "      <td>1</td>\n",
       "    </tr>\n",
       "    <tr>\n",
       "      <th>2</th>\n",
       "      <td>7.8</td>\n",
       "      <td>0.76</td>\n",
       "      <td>0.04</td>\n",
       "      <td>0.092</td>\n",
       "      <td>0.99700</td>\n",
       "      <td>9.8</td>\n",
       "      <td>5</td>\n",
       "      <td>1</td>\n",
       "    </tr>\n",
       "    <tr>\n",
       "      <th>3</th>\n",
       "      <td>11.2</td>\n",
       "      <td>0.28</td>\n",
       "      <td>0.56</td>\n",
       "      <td>0.075</td>\n",
       "      <td>0.99800</td>\n",
       "      <td>9.8</td>\n",
       "      <td>6</td>\n",
       "      <td>1</td>\n",
       "    </tr>\n",
       "    <tr>\n",
       "      <th>4</th>\n",
       "      <td>7.4</td>\n",
       "      <td>0.70</td>\n",
       "      <td>0.00</td>\n",
       "      <td>0.076</td>\n",
       "      <td>0.99780</td>\n",
       "      <td>9.4</td>\n",
       "      <td>5</td>\n",
       "      <td>1</td>\n",
       "    </tr>\n",
       "    <tr>\n",
       "      <th>...</th>\n",
       "      <td>...</td>\n",
       "      <td>...</td>\n",
       "      <td>...</td>\n",
       "      <td>...</td>\n",
       "      <td>...</td>\n",
       "      <td>...</td>\n",
       "      <td>...</td>\n",
       "      <td>...</td>\n",
       "    </tr>\n",
       "    <tr>\n",
       "      <th>6492</th>\n",
       "      <td>6.2</td>\n",
       "      <td>0.21</td>\n",
       "      <td>0.29</td>\n",
       "      <td>0.039</td>\n",
       "      <td>0.99114</td>\n",
       "      <td>11.2</td>\n",
       "      <td>6</td>\n",
       "      <td>0</td>\n",
       "    </tr>\n",
       "    <tr>\n",
       "      <th>6493</th>\n",
       "      <td>6.6</td>\n",
       "      <td>0.32</td>\n",
       "      <td>0.36</td>\n",
       "      <td>0.047</td>\n",
       "      <td>0.99490</td>\n",
       "      <td>9.6</td>\n",
       "      <td>5</td>\n",
       "      <td>0</td>\n",
       "    </tr>\n",
       "    <tr>\n",
       "      <th>6494</th>\n",
       "      <td>6.5</td>\n",
       "      <td>0.24</td>\n",
       "      <td>0.19</td>\n",
       "      <td>0.041</td>\n",
       "      <td>0.99254</td>\n",
       "      <td>9.4</td>\n",
       "      <td>6</td>\n",
       "      <td>0</td>\n",
       "    </tr>\n",
       "    <tr>\n",
       "      <th>6495</th>\n",
       "      <td>5.5</td>\n",
       "      <td>0.29</td>\n",
       "      <td>0.30</td>\n",
       "      <td>0.022</td>\n",
       "      <td>0.98869</td>\n",
       "      <td>12.8</td>\n",
       "      <td>7</td>\n",
       "      <td>0</td>\n",
       "    </tr>\n",
       "    <tr>\n",
       "      <th>6496</th>\n",
       "      <td>6.0</td>\n",
       "      <td>0.21</td>\n",
       "      <td>0.38</td>\n",
       "      <td>0.020</td>\n",
       "      <td>0.98941</td>\n",
       "      <td>11.8</td>\n",
       "      <td>6</td>\n",
       "      <td>0</td>\n",
       "    </tr>\n",
       "  </tbody>\n",
       "</table>\n",
       "<p>6497 rows × 8 columns</p>\n",
       "</div>"
      ],
      "text/plain": [
       "      fixed acidity  volatile acidity  citric acid  chlorides  density  \\\n",
       "0               7.4              0.70         0.00      0.076  0.99780   \n",
       "1               7.8              0.88         0.00      0.098  0.99680   \n",
       "2               7.8              0.76         0.04      0.092  0.99700   \n",
       "3              11.2              0.28         0.56      0.075  0.99800   \n",
       "4               7.4              0.70         0.00      0.076  0.99780   \n",
       "...             ...               ...          ...        ...      ...   \n",
       "6492            6.2              0.21         0.29      0.039  0.99114   \n",
       "6493            6.6              0.32         0.36      0.047  0.99490   \n",
       "6494            6.5              0.24         0.19      0.041  0.99254   \n",
       "6495            5.5              0.29         0.30      0.022  0.98869   \n",
       "6496            6.0              0.21         0.38      0.020  0.98941   \n",
       "\n",
       "      alcohol  quality  color  \n",
       "0         9.4        5      1  \n",
       "1         9.8        5      1  \n",
       "2         9.8        5      1  \n",
       "3         9.8        6      1  \n",
       "4         9.4        5      1  \n",
       "...       ...      ...    ...  \n",
       "6492     11.2        6      0  \n",
       "6493      9.6        5      0  \n",
       "6494      9.4        6      0  \n",
       "6495     12.8        7      0  \n",
       "6496     11.8        6      0  \n",
       "\n",
       "[6497 rows x 8 columns]"
      ]
     },
     "execution_count": 35,
     "metadata": {},
     "output_type": "execute_result"
    }
   ],
   "source": [
    "test_reduced_raw_data = test_raw_data.copy()\n",
    "\n",
    "test_reduced_raw_data.drop([\"free sulfur dioxide\", \"total sulfur dioxide\", \"pH\", \"residual sugar\", \"sulphates\"], axis=1)"
   ]
  },
  {
   "cell_type": "markdown",
   "metadata": {},
   "source": [
    "Split dataset"
   ]
  },
  {
   "cell_type": "code",
   "execution_count": 36,
   "metadata": {},
   "outputs": [],
   "source": [
    "train, train_labels, test, test_labels = dhl.strat_split_dataset(test_reduced_raw_data, \"quality\", 1)"
   ]
  },
  {
   "cell_type": "code",
   "execution_count": 37,
   "metadata": {},
   "outputs": [
    {
     "name": "stdout",
     "output_type": "stream",
     "text": [
      "      fixed acidity  volatile acidity  citric acid  residual sugar  chlorides  \\\n",
      "4472            5.8              0.21         0.32             1.6      0.045   \n",
      "4632            6.8              0.24         0.38             8.3      0.045   \n",
      "4589            5.0              0.27         0.32             4.5      0.032   \n",
      "4738            6.2              0.19         0.29             4.3      0.045   \n",
      "4346            7.3              0.26         0.33            11.8      0.057   \n",
      "\n",
      "      free sulfur dioxide  total sulfur dioxide  density    pH  sulphates  \\\n",
      "4472                 38.0                  95.0  0.98946  3.23       0.94   \n",
      "4632                 50.0                 185.0  0.99578  3.15       0.50   \n",
      "4589                 58.0                 178.0  0.98956  3.45       0.31   \n",
      "4738                 33.0                 126.0  0.99658  3.18       0.42   \n",
      "4346                 48.0                 127.0  0.99693  3.10       0.55   \n",
      "\n",
      "      alcohol  color  \n",
      "4472     12.4      0  \n",
      "4632      9.5      0  \n",
      "4589     12.6      0  \n",
      "4738      9.3      0  \n",
      "4346     10.0      0  \n"
     ]
    }
   ],
   "source": [
    "print(test.head())"
   ]
  },
  {
   "cell_type": "markdown",
   "metadata": {},
   "source": [
    "**Random Forest w/ KMeans Clustering Test**"
   ]
  },
  {
   "cell_type": "code",
   "execution_count": 38,
   "metadata": {},
   "outputs": [],
   "source": [
    "from sklearn.ensemble import RandomForestRegressor\n",
    "from sklearn.model_selection import GridSearchCV\n",
    "from sklearn.pipeline import Pipeline\n",
    "from sklearn.preprocessing import StandardScaler"
   ]
  },
  {
   "cell_type": "code",
   "execution_count": 39,
   "metadata": {},
   "outputs": [],
   "source": [
    "import utils.clustering_tools_lib as ctl"
   ]
  },
  {
   "cell_type": "code",
   "execution_count": 40,
   "metadata": {},
   "outputs": [],
   "source": [
    "\n",
    "def fit_test_pipeline_1(data, labels):\n",
    "    rfkc_test_pipeline = Pipeline([\n",
    "        (\"kmeans\", KMeans(n_clusters=5, random_state=RANDOM_STATE)),\n",
    "        (\"rf_reg\", RandomForestRegressor(n_estimators=100, max_features=4))\n",
    "    ])\n",
    "    \n",
    "    rfkc_test_pipeline.fit(data, labels)\n",
    "    \n",
    "    return rfkc_test_pipeline"
   ]
  },
  {
   "cell_type": "code",
   "execution_count": 41,
   "metadata": {},
   "outputs": [],
   "source": [
    "param_grid = dict(kmeans__n_clusters=[10, 100, 1000])"
   ]
  },
  {
   "cell_type": "code",
   "execution_count": 42,
   "metadata": {},
   "outputs": [],
   "source": [
    "test_1 = fit_test_pipeline_1(train, train_labels)"
   ]
  },
  {
   "cell_type": "code",
   "execution_count": 43,
   "metadata": {},
   "outputs": [],
   "source": [
    "grid_search = GridSearchCV(test_1, param_grid=param_grid)"
   ]
  },
  {
   "cell_type": "code",
   "execution_count": 44,
   "metadata": {},
   "outputs": [
    {
     "data": {
      "text/plain": [
       "GridSearchCV(estimator=Pipeline(steps=[('kmeans',\n",
       "                                        KMeans(n_clusters=5, random_state=19)),\n",
       "                                       ('rf_reg',\n",
       "                                        RandomForestRegressor(max_features=4))]),\n",
       "             param_grid={'kmeans__n_clusters': [10, 100, 1000]})"
      ]
     },
     "execution_count": 44,
     "metadata": {},
     "output_type": "execute_result"
    }
   ],
   "source": [
    "grid_search.fit(train, train_labels)"
   ]
  },
  {
   "cell_type": "code",
   "execution_count": 45,
   "metadata": {},
   "outputs": [
    {
     "name": "stdout",
     "output_type": "stream",
     "text": [
      "\n",
      "0.16681016323225006\n",
      "{'kmeans__n_clusters': 1000}\n",
      "Pipeline(steps=[('kmeans', KMeans(n_clusters=1000, random_state=19)),\n",
      "                ('rf_reg', RandomForestRegressor(max_features=4))])\n"
     ]
    }
   ],
   "source": [
    "print(f\"\\n{grid_search.best_score_}\\n{grid_search.best_params_}\\n{grid_search.best_estimator_}\")"
   ]
  },
  {
   "cell_type": "code",
   "execution_count": 46,
   "metadata": {},
   "outputs": [
    {
     "data": {
      "text/plain": [
       "0.16681016323225006"
      ]
     },
     "execution_count": 46,
     "metadata": {},
     "output_type": "execute_result"
    }
   ],
   "source": [
    "grid_search.best_score_"
   ]
  }
 ],
 "metadata": {
  "interpreter": {
   "hash": "b89b5cfaba6639976dc87ff2fec6d58faec662063367e2c229c520fe71072417"
  },
  "kernelspec": {
   "display_name": "Python 3.10.0 64-bit",
   "language": "python",
   "name": "python3"
  },
  "language_info": {
   "codemirror_mode": {
    "name": "ipython",
    "version": 3
   },
   "file_extension": ".py",
   "mimetype": "text/x-python",
   "name": "python",
   "nbconvert_exporter": "python",
   "pygments_lexer": "ipython3",
   "version": "3.9.12"
  },
  "orig_nbformat": 4
 },
 "nbformat": 4,
 "nbformat_minor": 2
}
