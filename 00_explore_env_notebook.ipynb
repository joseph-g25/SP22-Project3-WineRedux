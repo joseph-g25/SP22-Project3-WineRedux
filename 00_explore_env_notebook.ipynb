{
 "cells": [
  {
   "cell_type": "markdown",
   "metadata": {},
   "source": [
    "**Project 3: Wine Prediction Redux**\n",
    "---"
   ]
  },
  {
   "cell_type": "markdown",
   "metadata": {},
   "source": [
    "Using the provided characteristics, use clustering algorithms to pre-process the data to garner a better prediction using the selected model."
   ]
  },
  {
   "cell_type": "markdown",
   "metadata": {},
   "source": [
    "**Imports & Declaring Constants**"
   ]
  },
  {
   "cell_type": "code",
   "execution_count": null,
   "metadata": {},
   "outputs": [],
   "source": [
    "### Tool imports\n",
    "import pandas as pd\n",
    "import numpy as np\n",
    "import matplotlib.pyplot as plt\n",
    "\n",
    "from pandas.plotting import scatter_matrix\n",
    "\n",
    "### sklearn imports\n",
    "from sklearn.cluster import KMeans, MiniBatchKMeans\n",
    "from sklearn.model_selection import GridSearchCV\n",
    "\n",
    "### Local imports\n",
    "import utils.data_handling_lib as dhl\n",
    "import utils.graphics_lib as gl\n",
    "import utils.clustering_tools_lib as ctl\n",
    "\n",
    "from utils.data_handling_lib import RANDOM_STATE"
   ]
  },
  {
   "cell_type": "markdown",
   "metadata": {},
   "source": [
    "**Load an Explore Copy**"
   ]
  },
  {
   "cell_type": "code",
   "execution_count": null,
   "metadata": {},
   "outputs": [],
   "source": [
    "explore_raw_whole = dhl.load_data()\n",
    "\n",
    "explore_raw = explore_raw_whole[3000:]\n",
    "\n",
    "explore_raw.head()"
   ]
  },
  {
   "cell_type": "markdown",
   "metadata": {},
   "source": [
    "**Split dataset**"
   ]
  },
  {
   "cell_type": "code",
   "execution_count": null,
   "metadata": {},
   "outputs": [],
   "source": [
    "X_train_raw, y_train_raw, X_test_raw, y_test_raw = dhl.strat_split_dataset(X=explore_raw_whole, label_id=\"quality\")"
   ]
  },
  {
   "cell_type": "markdown",
   "metadata": {},
   "source": [
    "**Scatter plots**"
   ]
  },
  {
   "cell_type": "markdown",
   "metadata": {},
   "source": [
    "*Running this scatter matrix borks the rest of the graphs, refer to the exported image and heatmap*"
   ]
  },
  {
   "cell_type": "code",
   "execution_count": null,
   "metadata": {},
   "outputs": [],
   "source": [
    "#attributes = [\"fixed acidity\",\"volatile acidity\",\"citric acid\",\"residual sugar\",\"chlorides\",\n",
    "#              \"free sulfur dioxide\",\"total sulfur dioxide\",\"density\",\"pH\",\"sulphates\",\"alcohol\",\n",
    "#              \"quality\",\"color\"]\n",
    "#scatter_matrix(explore_raw[attributes], figsize=(12, 8))"
   ]
  },
  {
   "cell_type": "markdown",
   "metadata": {},
   "source": [
    "**Correlation matrix**"
   ]
  },
  {
   "cell_type": "code",
   "execution_count": null,
   "metadata": {},
   "outputs": [],
   "source": [
    "corr_matrix = explore_raw.corr()\n",
    "corr_matrix[\"quality\"].sort_values(ascending=False)"
   ]
  },
  {
   "cell_type": "code",
   "execution_count": null,
   "metadata": {},
   "outputs": [],
   "source": [
    "gl.plot_corr_matrix_heatmap(corr_matrix=corr_matrix, dataset=explore_raw, savefig=True)"
   ]
  },
  {
   "cell_type": "markdown",
   "metadata": {},
   "source": [
    "First look:\n",
    "    Most significant correlations for *quality* are *alcohol, density, chlorides, volatile acidity*"
   ]
  },
  {
   "cell_type": "markdown",
   "metadata": {},
   "source": [
    "**KMeans test**"
   ]
  },
  {
   "cell_type": "code",
   "execution_count": null,
   "metadata": {},
   "outputs": [],
   "source": [
    "param_grid = dict(kmeans__n_clusters=[_ for _ in range(2,15)])\n",
    "\n",
    "kmeans = KMeans(n_clusters=8, random_state=RANDOM_STATE)"
   ]
  },
  {
   "cell_type": "code",
   "execution_count": null,
   "metadata": {},
   "outputs": [],
   "source": [
    "drop_features_1 = [\"free sulfur dioxide\", \"total sulfur dioxide\", \"pH\", \"citric acid\", \"residual sugar\", \"sulphates\", \"volatile acidity\"]\n",
    "X_train_drop1, X_test_drop1 = X_train_raw.drop(drop_features_1, axis=1), X_test_raw.drop(drop_features_1, axis=1)\n",
    "\n",
    "drop_1_sil_scores = ctl.get_silhouette_scores(X_train_drop1, range_upper=10)\n",
    "\n",
    "gl.plot_silhouette_scores(silhouette_scores=drop_1_sil_scores, var_name=\"X_train_drop_1\")"
   ]
  },
  {
   "cell_type": "code",
   "execution_count": null,
   "metadata": {},
   "outputs": [],
   "source": [
    "drop_features_2 = [\"fixed acidity\", \"volatile acidity\", \"density\", \"residual sugar\", \"chlorides\", \"citric acid\", \"color\"]\n",
    "X_train_drop2, X_test_drop2 = X_train_raw.drop(drop_features_2, axis=1), X_test_raw.drop(drop_features_2, axis=1)\n",
    "\n",
    "drop_2_sil_scores = ctl.get_silhouette_scores(X_train_drop2, range_upper=10)\n",
    "\n",
    "gl.plot_silhouette_scores(silhouette_scores=drop_2_sil_scores, var_name=\"X_train_drop_2\")"
   ]
  },
  {
   "cell_type": "markdown",
   "metadata": {},
   "source": [
    "Second highest performing set."
   ]
  },
  {
   "cell_type": "code",
   "execution_count": null,
   "metadata": {},
   "outputs": [],
   "source": [
    "drop_features_3 = [\"fixed acidity\",\"citric acid\",\"residual sugar\",\"chlorides\",\"free sulfur dioxide\",\"total sulfur dioxide\",\"density\",\"pH\",\"sulphates\",\"color\"]\n",
    "X_train_drop3, X_test_drop3 = X_train_raw.drop(drop_features_3, axis=1), X_test_raw.drop(drop_features_3, axis=1)\n",
    "\n",
    "drop_3_sil_scores = ctl.get_silhouette_scores(X_train_drop3, range_upper=10)\n",
    "\n",
    "gl.plot_silhouette_scores(silhouette_scores=drop_3_sil_scores, var_name=\"X_train_drop_3\")"
   ]
  },
  {
   "cell_type": "markdown",
   "metadata": {},
   "source": [
    "Ideal number of clusters is 2, seems to be highest performing set."
   ]
  },
  {
   "cell_type": "markdown",
   "metadata": {},
   "source": [
    "*change view: including attribs rather than dropping*"
   ]
  },
  {
   "cell_type": "code",
   "execution_count": null,
   "metadata": {},
   "outputs": [],
   "source": [
    "include_features_4 = [\"total sulfur dioxide\", \"free sulfur dioxide\", ]"
   ]
  }
 ],
 "metadata": {
  "interpreter": {
   "hash": "0d60787304211c65f73faf60374d1c379d597e4c506fc699dce543ff572b8b14"
  },
  "kernelspec": {
   "display_name": "Python 3.9.12 64-bit (windows store)",
   "language": "python",
   "name": "python3"
  },
  "language_info": {
   "codemirror_mode": {
    "name": "ipython",
    "version": 3
   },
   "file_extension": ".py",
   "mimetype": "text/x-python",
   "name": "python",
   "nbconvert_exporter": "python",
   "pygments_lexer": "ipython3",
   "version": "3.9.12"
  },
  "orig_nbformat": 4
 },
 "nbformat": 4,
 "nbformat_minor": 2
}
