{
 "cells": [
  {
   "cell_type": "markdown",
   "metadata": {},
   "source": [
    "**Project 3: Wine Prediction Redux**\n",
    "---"
   ]
  },
  {
   "cell_type": "markdown",
   "metadata": {},
   "source": [
    "Using the provided characteristics, use clustering algorithms to pre-process the data to garner a better prediction using the selected model."
   ]
  },
  {
   "cell_type": "markdown",
   "metadata": {},
   "source": [
    "**Imports & Declaring Constants**"
   ]
  },
  {
   "cell_type": "code",
   "execution_count": 1,
   "metadata": {},
   "outputs": [],
   "source": [
    "### Tool imports\n",
    "import pandas as pd\n",
    "import numpy as np\n",
    "import matplotlib.pyplot as plt\n",
    "\n",
    "#from pandas.plotting import scatter_matrix\n",
    "\n",
    "### sklearn imports\n",
    "from sklearn.cluster import KMeans, MiniBatchKMeans\n",
    "\n",
    "### Local imports\n",
    "import utils.data_handling_lib as dhl\n",
    "import utils.graphics_lib as gl\n",
    "import utils.clustering_tools_lib as ctl\n",
    "\n",
    "from utils.data_handling_lib import RANDOM_STATE"
   ]
  },
  {
   "cell_type": "markdown",
   "metadata": {},
   "source": [
    "**Load an Explore Copy**"
   ]
  },
  {
   "cell_type": "code",
   "execution_count": 2,
   "metadata": {},
   "outputs": [
    {
     "data": {
      "text/html": [
       "<div>\n",
       "<style scoped>\n",
       "    .dataframe tbody tr th:only-of-type {\n",
       "        vertical-align: middle;\n",
       "    }\n",
       "\n",
       "    .dataframe tbody tr th {\n",
       "        vertical-align: top;\n",
       "    }\n",
       "\n",
       "    .dataframe thead th {\n",
       "        text-align: right;\n",
       "    }\n",
       "</style>\n",
       "<table border=\"1\" class=\"dataframe\">\n",
       "  <thead>\n",
       "    <tr style=\"text-align: right;\">\n",
       "      <th></th>\n",
       "      <th>fixed acidity</th>\n",
       "      <th>volatile acidity</th>\n",
       "      <th>citric acid</th>\n",
       "      <th>residual sugar</th>\n",
       "      <th>chlorides</th>\n",
       "      <th>free sulfur dioxide</th>\n",
       "      <th>total sulfur dioxide</th>\n",
       "      <th>density</th>\n",
       "      <th>pH</th>\n",
       "      <th>sulphates</th>\n",
       "      <th>alcohol</th>\n",
       "      <th>quality</th>\n",
       "      <th>color</th>\n",
       "    </tr>\n",
       "  </thead>\n",
       "  <tbody>\n",
       "    <tr>\n",
       "      <th>3000</th>\n",
       "      <td>6.3</td>\n",
       "      <td>0.67</td>\n",
       "      <td>0.48</td>\n",
       "      <td>12.6</td>\n",
       "      <td>0.052</td>\n",
       "      <td>57.0</td>\n",
       "      <td>222.0</td>\n",
       "      <td>0.9979</td>\n",
       "      <td>3.17</td>\n",
       "      <td>0.52</td>\n",
       "      <td>9.3</td>\n",
       "      <td>6</td>\n",
       "      <td>0</td>\n",
       "    </tr>\n",
       "    <tr>\n",
       "      <th>3001</th>\n",
       "      <td>7.4</td>\n",
       "      <td>0.40</td>\n",
       "      <td>0.29</td>\n",
       "      <td>5.4</td>\n",
       "      <td>0.044</td>\n",
       "      <td>31.0</td>\n",
       "      <td>122.0</td>\n",
       "      <td>0.9940</td>\n",
       "      <td>3.30</td>\n",
       "      <td>0.50</td>\n",
       "      <td>11.1</td>\n",
       "      <td>8</td>\n",
       "      <td>0</td>\n",
       "    </tr>\n",
       "    <tr>\n",
       "      <th>3002</th>\n",
       "      <td>7.1</td>\n",
       "      <td>0.26</td>\n",
       "      <td>0.31</td>\n",
       "      <td>2.2</td>\n",
       "      <td>0.044</td>\n",
       "      <td>29.0</td>\n",
       "      <td>128.0</td>\n",
       "      <td>0.9937</td>\n",
       "      <td>3.34</td>\n",
       "      <td>0.64</td>\n",
       "      <td>10.9</td>\n",
       "      <td>8</td>\n",
       "      <td>0</td>\n",
       "    </tr>\n",
       "    <tr>\n",
       "      <th>3003</th>\n",
       "      <td>9.0</td>\n",
       "      <td>0.31</td>\n",
       "      <td>0.48</td>\n",
       "      <td>6.6</td>\n",
       "      <td>0.043</td>\n",
       "      <td>11.0</td>\n",
       "      <td>73.0</td>\n",
       "      <td>0.9938</td>\n",
       "      <td>2.90</td>\n",
       "      <td>0.38</td>\n",
       "      <td>11.6</td>\n",
       "      <td>5</td>\n",
       "      <td>0</td>\n",
       "    </tr>\n",
       "    <tr>\n",
       "      <th>3004</th>\n",
       "      <td>6.3</td>\n",
       "      <td>0.39</td>\n",
       "      <td>0.24</td>\n",
       "      <td>6.9</td>\n",
       "      <td>0.069</td>\n",
       "      <td>9.0</td>\n",
       "      <td>117.0</td>\n",
       "      <td>0.9942</td>\n",
       "      <td>3.15</td>\n",
       "      <td>0.35</td>\n",
       "      <td>10.2</td>\n",
       "      <td>4</td>\n",
       "      <td>0</td>\n",
       "    </tr>\n",
       "  </tbody>\n",
       "</table>\n",
       "</div>"
      ],
      "text/plain": [
       "      fixed acidity  volatile acidity  citric acid  residual sugar  chlorides  \\\n",
       "3000            6.3              0.67         0.48            12.6      0.052   \n",
       "3001            7.4              0.40         0.29             5.4      0.044   \n",
       "3002            7.1              0.26         0.31             2.2      0.044   \n",
       "3003            9.0              0.31         0.48             6.6      0.043   \n",
       "3004            6.3              0.39         0.24             6.9      0.069   \n",
       "\n",
       "      free sulfur dioxide  total sulfur dioxide  density    pH  sulphates  \\\n",
       "3000                 57.0                 222.0   0.9979  3.17       0.52   \n",
       "3001                 31.0                 122.0   0.9940  3.30       0.50   \n",
       "3002                 29.0                 128.0   0.9937  3.34       0.64   \n",
       "3003                 11.0                  73.0   0.9938  2.90       0.38   \n",
       "3004                  9.0                 117.0   0.9942  3.15       0.35   \n",
       "\n",
       "      alcohol  quality  color  \n",
       "3000      9.3        6      0  \n",
       "3001     11.1        8      0  \n",
       "3002     10.9        8      0  \n",
       "3003     11.6        5      0  \n",
       "3004     10.2        4      0  "
      ]
     },
     "execution_count": 2,
     "metadata": {},
     "output_type": "execute_result"
    }
   ],
   "source": [
    "explore_raw_whole = dhl.load_data()\n",
    "\n",
    "explore_raw = explore_raw_whole[3000:]\n",
    "\n",
    "explore_raw.head()"
   ]
  },
  {
   "cell_type": "code",
   "execution_count": 3,
   "metadata": {},
   "outputs": [
    {
     "data": {
      "text/plain": [
       "fixed acidity           6497\n",
       "volatile acidity        6497\n",
       "citric acid             6497\n",
       "residual sugar          6497\n",
       "chlorides               6497\n",
       "free sulfur dioxide     6497\n",
       "total sulfur dioxide    6497\n",
       "density                 6497\n",
       "pH                      6497\n",
       "sulphates               6497\n",
       "alcohol                 6497\n",
       "quality                 6497\n",
       "color                   6497\n",
       "dtype: int64"
      ]
     },
     "execution_count": 3,
     "metadata": {},
     "output_type": "execute_result"
    }
   ],
   "source": [
    "explore_raw_whole.count()"
   ]
  },
  {
   "cell_type": "markdown",
   "metadata": {},
   "source": [
    "**Split dataset**"
   ]
  },
  {
   "cell_type": "code",
   "execution_count": 4,
   "metadata": {},
   "outputs": [],
   "source": [
    "X_train_raw, y_train_raw, X_test_raw, y_test_raw = dhl.strat_split_dataset(X=explore_raw_whole, label_id=\"quality\")"
   ]
  },
  {
   "cell_type": "markdown",
   "metadata": {},
   "source": [
    "**Scatter plots**"
   ]
  },
  {
   "cell_type": "markdown",
   "metadata": {},
   "source": [
    "*Running this scatter matrix borks the rest of the graphs, refer to the exported image and heatmap*"
   ]
  },
  {
   "cell_type": "code",
   "execution_count": 5,
   "metadata": {},
   "outputs": [],
   "source": [
    "#attributes = [\"fixed acidity\",\"volatile acidity\",\"citric acid\",\"residual sugar\",\"chlorides\",\n",
    "#              \"free sulfur dioxide\",\"total sulfur dioxide\",\"density\",\"pH\",\"sulphates\",\"alcohol\",\n",
    "#              \"quality\",\"color\"]\n",
    "#scatter_matrix(explore_raw[attributes], figsize=(12, 8))"
   ]
  },
  {
   "cell_type": "markdown",
   "metadata": {},
   "source": [
    "**Correlation matrix**"
   ]
  },
  {
   "cell_type": "code",
   "execution_count": 6,
   "metadata": {},
   "outputs": [
    {
     "data": {
      "text/plain": [
       "quality                 1.000000\n",
       "alcohol                 0.448825\n",
       "sulphates               0.043426\n",
       "pH                      0.041774\n",
       "free sulfur dioxide     0.008862\n",
       "citric acid            -0.012855\n",
       "residual sugar         -0.066449\n",
       "fixed acidity          -0.131830\n",
       "volatile acidity       -0.175486\n",
       "total sulfur dioxide   -0.194259\n",
       "chlorides              -0.213893\n",
       "density                -0.306309\n",
       "color                        NaN\n",
       "Name: quality, dtype: float64"
      ]
     },
     "execution_count": 6,
     "metadata": {},
     "output_type": "execute_result"
    }
   ],
   "source": [
    "corr_matrix = explore_raw.corr()\n",
    "corr_matrix[\"quality\"].sort_values(ascending=False)"
   ]
  },
  {
   "cell_type": "code",
   "execution_count": 7,
   "metadata": {},
   "outputs": [
    {
     "data": {
      "image/png": "[encoded data removed]",
      "text/plain": [
       "<Figure size 432x288 with 2 Axes>"
      ]
     },
     "metadata": {
      "needs_background": "light"
     },
     "output_type": "display_data"
    }
   ],
   "source": [
    "gl.plot_corr_matrix_heatmap(corr_matrix=corr_matrix, dataset=explore_raw_whole)"
   ]
  },
  {
   "cell_type": "markdown",
   "metadata": {},
   "source": [
    "First look:\n",
    "    Most significant correlations for *quality* are *alcohol, density, chlorides, volatile acidity*"
   ]
  },
  {
   "cell_type": "markdown",
   "metadata": {},
   "source": [
    "**KMeans test**"
   ]
  },
  {
   "cell_type": "code",
   "execution_count": 8,
   "metadata": {},
   "outputs": [],
   "source": [
    "param_grid = dict(kmeans__n_clusters=[_ for _ in range(2,15)])\n",
    "\n",
    "kmeans = KMeans(n_clusters=8, random_state=RANDOM_STATE)"
   ]
  },
  {
   "cell_type": "code",
   "execution_count": 9,
   "metadata": {},
   "outputs": [
    {
     "data": {
      "image/png": "[encoded data removed]",
      "text/plain": [
       "<Figure size 576x216 with 1 Axes>"
      ]
     },
     "metadata": {
      "needs_background": "light"
     },
     "output_type": "display_data"
    }
   ],
   "source": [
    "drop_features_1 = [\"free sulfur dioxide\", \"total sulfur dioxide\", \"pH\", \"citric acid\", \"residual sugar\", \"sulphates\", \"volatile acidity\"]\n",
    "X_train_drop1, X_test_drop1 = X_train_raw.drop(drop_features_1, axis=1), X_test_raw.drop(drop_features_1, axis=1)\n",
    "\n",
    "drop_1_sil_scores = ctl.get_silhouette_scores(X_train_drop1, range_upper=10)\n",
    "\n",
    "gl.plot_silhouette_scores(silhouette_scores=drop_1_sil_scores, var_name=\"X_train_drop_1\")"
   ]
  },
  {
   "cell_type": "code",
   "execution_count": 10,
   "metadata": {},
   "outputs": [
    {
     "data": {
      "image/png": "[encoded data removed]",
      "text/plain": [
       "<Figure size 576x216 with 1 Axes>"
      ]
     },
     "metadata": {
      "needs_background": "light"
     },
     "output_type": "display_data"
    }
   ],
   "source": [
    "drop_features_2 = [\"fixed acidity\", \"volatile acidity\", \"density\", \"residual sugar\", \"chlorides\", \"citric acid\", \"color\"]\n",
    "X_train_drop2, X_test_drop2 = X_train_raw.drop(drop_features_2, axis=1), X_test_raw.drop(drop_features_2, axis=1)\n",
    "\n",
    "drop_2_sil_scores = ctl.get_silhouette_scores(X_train_drop2, range_upper=10)\n",
    "\n",
    "gl.plot_silhouette_scores(silhouette_scores=drop_2_sil_scores, var_name=\"X_train_drop_2\")"
   ]
  },
  {
   "cell_type": "markdown",
   "metadata": {},
   "source": [
    "Second highest performing set."
   ]
  },
  {
   "cell_type": "code",
   "execution_count": 11,
   "metadata": {},
   "outputs": [
    {
     "data": {
      "image/png": "[encoded data removed]",
      "text/plain": [
       "<Figure size 576x216 with 1 Axes>"
      ]
     },
     "metadata": {
      "needs_background": "light"
     },
     "output_type": "display_data"
    }
   ],
   "source": [
    "drop_features_3 = [\"fixed acidity\",\"citric acid\",\"residual sugar\",\"chlorides\",\"free sulfur dioxide\",\"total sulfur dioxide\",\"density\",\"pH\",\"sulphates\",\"color\"]\n",
    "X_train_drop3, X_test_drop3 = X_train_raw.drop(drop_features_3, axis=1), X_test_raw.drop(drop_features_3, axis=1)\n",
    "\n",
    "drop_3_sil_scores = ctl.get_silhouette_scores(X_train_drop3, range_upper=10)\n",
    "\n",
    "gl.plot_silhouette_scores(silhouette_scores=drop_3_sil_scores, var_name=\"X_train_drop_3\")"
   ]
  },
  {
   "cell_type": "markdown",
   "metadata": {},
   "source": [
    "Ideal number of clusters is 2, seems to be highest performing set."
   ]
  },
  {
   "cell_type": "markdown",
   "metadata": {},
   "source": [
    "*change view: including attribs rather than dropping*"
   ]
  },
  {
   "cell_type": "code",
   "execution_count": 12,
   "metadata": {},
   "outputs": [],
   "source": [
    "include_features_4 = [\"total sulfur dioxide\", \"free sulfur dioxide\", ]"
   ]
  }
 ],
 "metadata": {
  "interpreter": {
   "hash": "ca24b61ab186ef647d07018d3b1b3cbc1eeae7fa1c2b9e222bb93dc5cdd9ae0c"
  },
  "kernelspec": {
   "display_name": "Python 3.9.12 ('.venv': venv)",
   "language": "python",
   "name": "python3"
  },
  "language_info": {
   "codemirror_mode": {
    "name": "ipython",
    "version": 3
   },
   "file_extension": ".py",
   "mimetype": "text/x-python",
   "name": "python",
   "nbconvert_exporter": "python",
   "pygments_lexer": "ipython3",
   "version": "3.9.12"
  },
  "orig_nbformat": 4
 },
 "nbformat": 4,
 "nbformat_minor": 2
}
