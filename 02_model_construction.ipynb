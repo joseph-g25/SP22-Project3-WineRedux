{
 "cells": [
  {
   "cell_type": "markdown",
   "metadata": {},
   "source": [
    "**Pipeline and Model Construction**\n",
    "---"
   ]
  },
  {
   "cell_type": "markdown",
   "metadata": {},
   "source": [
    "Imports"
   ]
  },
  {
   "cell_type": "code",
   "execution_count": 1,
   "metadata": {},
   "outputs": [],
   "source": [
    "from sklearn.ensemble import RandomForestRegressor ### Model construction tool\n",
    "from sklearn.cluster import KMeans ### Model construction tools\n",
    "\n",
    "from sklearn.pipeline import Pipeline ### Model construction tools\n",
    "from sklearn.compose import ColumnTransformer ### Model construction tools\n",
    "\n",
    "from sklearn.preprocessing import StandardScaler ### Model construction tools\n",
    "\n",
    "from sklearn.model_selection import GridSearchCV ### Testing tools\n",
    "import utils.data_handling_lib as dhl ### Testing tools\n",
    "\n",
    "from utils.data_handling_lib import RANDOM_STATE ### Set constant\n"
   ]
  },
  {
   "cell_type": "markdown",
   "metadata": {},
   "source": [
    "**Define pipeline elements**"
   ]
  },
  {
   "cell_type": "code",
   "execution_count": 2,
   "metadata": {},
   "outputs": [],
   "source": [
    "def make_model_pipeline(X, y):\n",
    "    \"\"\"\n",
    "    Creates pre-fit pipeline object\n",
    "\n",
    "    Args:\n",
    "        X (iterable): Wine training features dataset\n",
    "        y (iterable): Wine training labels dataset\n",
    "\n",
    "    Returns:\n",
    "        Pipeline: Unfitted pipeline object\n",
    "    \"\"\"\n",
    "    \n",
    "    cluster_features = [\"free sulfur dioxide\", \"total sulfur dioxide\", \"pH\", \"sulphates\"]\n",
    "    scale_features = [\"fixed acidity\", \"volatile acidity\", \"density\",\n",
    "                        \"residual sugar\", \"chlorides\", \"citric acid\"]\n",
    "    cat_features = [\"color\"]\n",
    "\n",
    "    cluster_pipeline = Pipeline([\n",
    "        (\"kmeans_cluster\", KMeans(n_clusters=3, random_state=RANDOM_STATE))\n",
    "        ])\n",
    "\n",
    "    num_pipeline = Pipeline([\n",
    "        (\"std_scaler\", StandardScaler()),\n",
    "        ])\n",
    "\n",
    "    data_preparation_pipeline = ColumnTransformer([\n",
    "        (\"cluster\", cluster_pipeline, cluster_features),\n",
    "        (\"num\", num_pipeline, scale_features),\n",
    "        (\"pass\", \"passthrough\", cat_features)\n",
    "        ])\n",
    "\n",
    "    model_pipeline = Pipeline([\n",
    "        (\"preprocessing\", data_preparation_pipeline),\n",
    "        (\"rf_reg\", RandomForestRegressor(random_state=RANDOM_STATE, n_jobs=-1)),\n",
    "        ])\n",
    "\n",
    "    model_pipeline.fit(X=X,y=y)\n",
    "    \n",
    "    return model_pipeline"
   ]
  },
  {
   "cell_type": "markdown",
   "metadata": {},
   "source": [
    "**Load and strat split dataset**"
   ]
  },
  {
   "cell_type": "code",
   "execution_count": 3,
   "metadata": {},
   "outputs": [],
   "source": [
    "test_dataset = dhl.load_data()\n",
    "X_train, y_train, X_test, y_test = dhl.strat_split_dataset(test_dataset, \"quality\")"
   ]
  },
  {
   "cell_type": "code",
   "execution_count": 4,
   "metadata": {},
   "outputs": [],
   "source": [
    "comparison_slice = X_test[100:125]\n",
    "comparison_slice_labels = y_test[100:125]"
   ]
  },
  {
   "cell_type": "markdown",
   "metadata": {},
   "source": [
    "**Create model object to run GridSearchCV on**"
   ]
  },
  {
   "cell_type": "code",
   "execution_count": 5,
   "metadata": {},
   "outputs": [],
   "source": [
    "test_model = make_model_pipeline(X_train, y_train)"
   ]
  },
  {
   "cell_type": "code",
   "execution_count": 6,
   "metadata": {},
   "outputs": [],
   "source": [
    "param_grid = {\"preprocessing__cluster__kmeans_cluster__n_clusters\":[2, 3],\n",
    "              \"preprocessing__cluster__kmeans_cluster__n_init\":[10,50,100],\n",
    "              \"preprocessing__num__std_scaler__with_mean\":[False, True],\n",
    "              \"rf_reg__bootstrap\":[False, True],\n",
    "              \"rf_reg__n_estimators\":[100,500,1000],\n",
    "              \"rf_reg__min_samples_leaf\":[1,2,5]\n",
    "            }\n",
    "\n",
    "grid_search = GridSearchCV(test_model, param_grid=param_grid, n_jobs=-1)"
   ]
  },
  {
   "cell_type": "code",
   "execution_count": 7,
   "metadata": {},
   "outputs": [
    {
     "data": {
      "text/plain": [
       "dict_keys(['cv', 'error_score', 'estimator__memory', 'estimator__steps', 'estimator__verbose', 'estimator__preprocessing', 'estimator__rf_reg', 'estimator__preprocessing__n_jobs', 'estimator__preprocessing__remainder', 'estimator__preprocessing__sparse_threshold', 'estimator__preprocessing__transformer_weights', 'estimator__preprocessing__transformers', 'estimator__preprocessing__verbose', 'estimator__preprocessing__verbose_feature_names_out', 'estimator__preprocessing__cluster', 'estimator__preprocessing__num', 'estimator__preprocessing__pass', 'estimator__preprocessing__cluster__memory', 'estimator__preprocessing__cluster__steps', 'estimator__preprocessing__cluster__verbose', 'estimator__preprocessing__cluster__kmeans_cluster', 'estimator__preprocessing__cluster__kmeans_cluster__algorithm', 'estimator__preprocessing__cluster__kmeans_cluster__copy_x', 'estimator__preprocessing__cluster__kmeans_cluster__init', 'estimator__preprocessing__cluster__kmeans_cluster__max_iter', 'estimator__preprocessing__cluster__kmeans_cluster__n_clusters', 'estimator__preprocessing__cluster__kmeans_cluster__n_init', 'estimator__preprocessing__cluster__kmeans_cluster__random_state', 'estimator__preprocessing__cluster__kmeans_cluster__tol', 'estimator__preprocessing__cluster__kmeans_cluster__verbose', 'estimator__preprocessing__num__memory', 'estimator__preprocessing__num__steps', 'estimator__preprocessing__num__verbose', 'estimator__preprocessing__num__std_scaler', 'estimator__preprocessing__num__std_scaler__copy', 'estimator__preprocessing__num__std_scaler__with_mean', 'estimator__preprocessing__num__std_scaler__with_std', 'estimator__rf_reg__bootstrap', 'estimator__rf_reg__ccp_alpha', 'estimator__rf_reg__criterion', 'estimator__rf_reg__max_depth', 'estimator__rf_reg__max_features', 'estimator__rf_reg__max_leaf_nodes', 'estimator__rf_reg__max_samples', 'estimator__rf_reg__min_impurity_decrease', 'estimator__rf_reg__min_samples_leaf', 'estimator__rf_reg__min_samples_split', 'estimator__rf_reg__min_weight_fraction_leaf', 'estimator__rf_reg__n_estimators', 'estimator__rf_reg__n_jobs', 'estimator__rf_reg__oob_score', 'estimator__rf_reg__random_state', 'estimator__rf_reg__verbose', 'estimator__rf_reg__warm_start', 'estimator', 'n_jobs', 'param_grid', 'pre_dispatch', 'refit', 'return_train_score', 'scoring', 'verbose'])"
      ]
     },
     "execution_count": 7,
     "metadata": {},
     "output_type": "execute_result"
    }
   ],
   "source": [
    "grid_search.get_params().keys()"
   ]
  },
  {
   "cell_type": "code",
   "execution_count": 8,
   "metadata": {},
   "outputs": [
    {
     "data": {
      "text/plain": [
       "0.4541016232606202"
      ]
     },
     "execution_count": 8,
     "metadata": {},
     "output_type": "execute_result"
    }
   ],
   "source": [
    "#grid_search.fit(X_train, y_train)\n",
    "\n",
    "grid_search = dhl.load_model(\"grid_search_1_rf_reg\")\n",
    "\n",
    "grid_search.best_score_"
   ]
  },
  {
   "cell_type": "code",
   "execution_count": 9,
   "metadata": {},
   "outputs": [
    {
     "name": "stdout",
     "output_type": "stream",
     "text": [
      "5.26\n",
      "5.88\n",
      "5.76\n",
      "6.75\n",
      "6.36\n",
      "5.71\n",
      "5.41\n",
      "5.92\n",
      "6.17\n",
      "5.6\n",
      "Actual:\n",
      "370     5\n",
      "6390    6\n",
      "1174    6\n",
      "3898    7\n",
      "5887    6\n",
      "6479    6\n",
      "1332    6\n",
      "3735    6\n",
      "5124    6\n",
      "6377    6\n",
      "Name: quality, dtype: int64\n"
     ]
    }
   ],
   "source": [
    "prediction = test_model.predict(X_test[90:100])\n",
    "actual = y_test[90:100]\n",
    "\n",
    "for val in prediction:\n",
    "      print(f\"{val}\")\n",
    "print(f\"Actual:\\n{actual}\")"
   ]
  },
  {
   "cell_type": "code",
   "execution_count": 10,
   "metadata": {},
   "outputs": [
    {
     "name": "stdout",
     "output_type": "stream",
     "text": [
      "{'preprocessing__cluster__kmeans_cluster__n_clusters': 2, 'preprocessing__cluster__kmeans_cluster__n_init': 10, 'preprocessing__num__std_scaler__with_mean': True, 'rf_reg__bootstrap': True, 'rf_reg__min_samples_leaf': 1, 'rf_reg__n_estimators': 1000} \n",
      "\n",
      "Pipeline(steps=[('preprocessing',\n",
      "                 ColumnTransformer(transformers=[('cluster',\n",
      "                                                  Pipeline(steps=[('kmeans_cluster',\n",
      "                                                                   KMeans(n_clusters=2,\n",
      "                                                                          random_state=17))]),\n",
      "                                                  ['free sulfur dioxide',\n",
      "                                                   'total sulfur dioxide', 'pH',\n",
      "                                                   'sulphates']),\n",
      "                                                 ('num',\n",
      "                                                  Pipeline(steps=[('std_scaler',\n",
      "                                                                   StandardScaler())]),\n",
      "                                                  ['fixed acidity',\n",
      "                                                   'volatile acidity',\n",
      "                                                   'density', 'residual sugar',\n",
      "                                                   'chlorides',\n",
      "                                                   'citric acid']),\n",
      "                                                 ('pass', 'passthrough',\n",
      "                                                  ['color'])])),\n",
      "                ('rf_reg',\n",
      "                 RandomForestRegressor(n_estimators=1000, n_jobs=-1,\n",
      "                                       random_state=17))])\n"
     ]
    }
   ],
   "source": [
    "print(f\"{grid_search.best_params_}\",\n",
    "      f\"\\n\\n{grid_search.best_estimator_}\")\n"
   ]
  },
  {
   "cell_type": "code",
   "execution_count": 11,
   "metadata": {},
   "outputs": [],
   "source": [
    "def make_best_pipeline(X, y):\n",
    "    \"\"\"\n",
    "    Creates pre-fit pipeline object\n",
    "\n",
    "    Args:\n",
    "        X (iterable): Wine training features dataset\n",
    "        y (iterable): Wine training labels dataset\n",
    "\n",
    "    Returns:\n",
    "        Pipeline: Unfitted pipeline object\n",
    "    \"\"\"\n",
    "    \n",
    "    cluster_features = [\"free sulfur dioxide\", \"total sulfur dioxide\", \"pH\", \"sulphates\"]\n",
    "    scale_features = [\"fixed acidity\", \"volatile acidity\", \"density\",\n",
    "                        \"residual sugar\", \"chlorides\", \"citric acid\"]\n",
    "    cat_features = [\"color\"]\n",
    "\n",
    "    cluster_pipeline = Pipeline([\n",
    "        (\"kmeans_cluster\", KMeans(n_clusters=2, random_state=RANDOM_STATE))\n",
    "        ])\n",
    "\n",
    "    num_pipeline = Pipeline([\n",
    "        (\"std_scaler\", StandardScaler(with_mean=True)),\n",
    "        ])\n",
    "\n",
    "    data_preparation_pipeline = ColumnTransformer([\n",
    "        (\"cluster\", cluster_pipeline, cluster_features),\n",
    "        (\"num\", num_pipeline, scale_features),\n",
    "        (\"pass\", \"passthrough\", cat_features)\n",
    "        ], n_jobs=-1)\n",
    "\n",
    "    model_pipeline = Pipeline([\n",
    "        (\"preprocessing\", data_preparation_pipeline),\n",
    "        (\"rf_reg\", RandomForestRegressor(n_estimators=1000, random_state=RANDOM_STATE, bootstrap=True, n_jobs=-1)),\n",
    "        ])\n",
    "\n",
    "    model_pipeline.fit(X=X,y=y)\n",
    "    \n",
    "    return model_pipeline"
   ]
  },
  {
   "cell_type": "code",
   "execution_count": 12,
   "metadata": {},
   "outputs": [],
   "source": [
    "best_model = make_best_pipeline(X_train, y_train)"
   ]
  },
  {
   "cell_type": "code",
   "execution_count": 13,
   "metadata": {},
   "outputs": [
    {
     "data": {
      "text/plain": [
       "(0.4844428571428572, 0.5177752142857142)"
      ]
     },
     "execution_count": 13,
     "metadata": {},
     "output_type": "execute_result"
    }
   ],
   "source": [
    "test_model.score(comparison_slice, comparison_slice_labels), best_model.score(comparison_slice, comparison_slice_labels)"
   ]
  }
 ],
 "metadata": {
  "interpreter": {
   "hash": "ca24b61ab186ef647d07018d3b1b3cbc1eeae7fa1c2b9e222bb93dc5cdd9ae0c"
  },
  "kernelspec": {
   "display_name": "Python 3.9.12 ('.venv': venv)",
   "language": "python",
   "name": "python3"
  },
  "language_info": {
   "codemirror_mode": {
    "name": "ipython",
    "version": 3
   },
   "file_extension": ".py",
   "mimetype": "text/x-python",
   "name": "python",
   "nbconvert_exporter": "python",
   "pygments_lexer": "ipython3",
   "version": "3.9.12"
  },
  "orig_nbformat": 4
 },
 "nbformat": 4,
 "nbformat_minor": 2
}
