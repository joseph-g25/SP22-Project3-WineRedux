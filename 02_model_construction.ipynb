{
 "cells": [
  {
   "cell_type": "markdown",
   "metadata": {},
   "source": [
    "**Pipeline and Model Construction**\n",
    "---"
   ]
  },
  {
   "cell_type": "markdown",
   "metadata": {},
   "source": [
    "Imports"
   ]
  },
  {
   "cell_type": "code",
   "execution_count": null,
   "metadata": {},
   "outputs": [],
   "source": [
    "from sklearn.ensemble import RandomForestRegressor ### Model construction tool\n",
    "from sklearn.cluster import KMeans ### Model construction tools\n",
    "\n",
    "from sklearn.pipeline import Pipeline ### Model construction tools\n",
    "from sklearn.compose import ColumnTransformer ### Model construction tools\n",
    "\n",
    "from sklearn.preprocessing import StandardScaler ### Model construction tools\n",
    "\n",
    "from sklearn.model_selection import GridSearchCV ### Testing tools\n",
    "import utils.data_handling_lib as dhl ### Testing tools\n",
    "\n",
    "from utils.data_handling_lib import RANDOM_STATE ### Set constant\n"
   ]
  },
  {
   "cell_type": "markdown",
   "metadata": {},
   "source": [
    "**Define pipeline elements**"
   ]
  },
  {
   "cell_type": "code",
   "execution_count": null,
   "metadata": {},
   "outputs": [],
   "source": [
    "def make_model_pipeline(X, y):\n",
    "    \"\"\"\n",
    "    Creates pre-fit pipeline object\n",
    "\n",
    "    Args:\n",
    "        X (iterable): Wine training features dataset\n",
    "        y (iterable): Wine training labels dataset\n",
    "\n",
    "    Returns:\n",
    "        Pipeline: Unfitted pipeline object\n",
    "    \"\"\"\n",
    "    \n",
    "    cluster_features = [\"free sulfur dioxide\", \"total sulfur dioxide\", \"pH\", \"sulphates\"]\n",
    "    scale_features = [\"fixed acidity\", \"volatile acidity\", \"density\",\n",
    "                        \"residual sugar\", \"chlorides\", \"citric acid\"]\n",
    "    cat_features = [\"color\"]\n",
    "\n",
    "    cluster_pipeline = Pipeline([\n",
    "        (\"kmeans_cluster\", KMeans(n_clusters=3, random_state=RANDOM_STATE))\n",
    "        ])\n",
    "\n",
    "    num_pipeline = Pipeline([\n",
    "        (\"std_scaler\", StandardScaler()),\n",
    "        ])\n",
    "\n",
    "    data_preparation_pipeline = ColumnTransformer([\n",
    "        (\"cluster\", cluster_pipeline, cluster_features),\n",
    "        (\"num\", num_pipeline, scale_features),\n",
    "        (\"pass\", \"passthrough\", cat_features)\n",
    "        ])\n",
    "\n",
    "    model_pipeline = Pipeline([\n",
    "        (\"preprocessing\", data_preparation_pipeline),\n",
    "        (\"rf_reg\", RandomForestRegressor(random_state=RANDOM_STATE, n_jobs=-1)),\n",
    "        ])\n",
    "\n",
    "    model_pipeline.fit(X=X,y=y)\n",
    "    \n",
    "    return model_pipeline"
   ]
  },
  {
   "cell_type": "markdown",
   "metadata": {},
   "source": [
    "**Load and strat split dataset**"
   ]
  },
  {
   "cell_type": "code",
   "execution_count": null,
   "metadata": {},
   "outputs": [],
   "source": [
    "test_dataset = dhl.load_data()\n",
    "X_train, y_train, X_test, y_test = dhl.strat_split_dataset(test_dataset, \"quality\")"
   ]
  },
  {
   "cell_type": "code",
   "execution_count": null,
   "metadata": {},
   "outputs": [],
   "source": [
    "comparison_slice = X_test[100:125]\n",
    "comparison_slice_labels = y_test[100:125]"
   ]
  },
  {
   "cell_type": "markdown",
   "metadata": {},
   "source": [
    "**Create model object to run GridSearchCV on**"
   ]
  },
  {
   "cell_type": "code",
   "execution_count": null,
   "metadata": {},
   "outputs": [],
   "source": [
    "test_model = make_model_pipeline(X_train, y_train)"
   ]
  },
  {
   "cell_type": "code",
   "execution_count": null,
   "metadata": {},
   "outputs": [],
   "source": [
    "prediction = test_model.predict(X_test[90:100])\n",
    "actual = y_test[90:100]\n",
    "\n",
    "for val in prediction:\n",
    "      print(f\"{val}\")\n",
    "print(f\"Actual:\\n{actual}\")"
   ]
  },
  {
   "cell_type": "code",
   "execution_count": null,
   "metadata": {},
   "outputs": [],
   "source": [
    "param_grid = {\"preprocessing__cluster__kmeans_cluster__n_clusters\":[2, 3],\n",
    "              \"preprocessing__cluster__kmeans_cluster__n_init\":[10,50,100],\n",
    "              \"preprocessing__num__std_scaler__with_mean\":[False, True],\n",
    "              \"rf_reg__bootstrap\":[False, True],\n",
    "              \"rf_reg__n_estimators\":[100,500,1000],\n",
    "              \"rf_reg__min_samples_leaf\":[1,2,5]\n",
    "            }\n",
    "\n",
    "grid_search = GridSearchCV(test_model, param_grid=param_grid, n_jobs=-1)"
   ]
  },
  {
   "cell_type": "code",
   "execution_count": null,
   "metadata": {},
   "outputs": [],
   "source": [
    "grid_search.get_params().keys()"
   ]
  },
  {
   "cell_type": "code",
   "execution_count": null,
   "metadata": {},
   "outputs": [],
   "source": [
    "#grid_search.fit(X_train, y_train)\n",
    "\n",
    "grid_search = dhl.load_model(\"grid_search_1_rf_reg\")\n",
    "\n",
    "grid_search.best_score_"
   ]
  },
  {
   "cell_type": "code",
   "execution_count": null,
   "metadata": {},
   "outputs": [],
   "source": [
    "print(f\"{grid_search.best_params_}\",\n",
    "      f\"\\n\\n{grid_search.best_estimator_}\")"
   ]
  },
  {
   "cell_type": "markdown",
   "metadata": {},
   "source": [
    "**Final Function Call Construction**"
   ]
  },
  {
   "cell_type": "code",
   "execution_count": null,
   "metadata": {},
   "outputs": [],
   "source": [
    "def make_best_pipeline(X, y):\n",
    "    \"\"\"\n",
    "    Creates pre-fit pipeline object\n",
    "\n",
    "    Args:\n",
    "        X (iterable): Wine training features dataset\n",
    "        y (iterable): Wine training labels dataset\n",
    "\n",
    "    Returns:\n",
    "        Pipeline: Unfitted pipeline object\n",
    "    \"\"\"\n",
    "    \n",
    "    cluster_features = [\"free sulfur dioxide\", \"total sulfur dioxide\", \"pH\", \"sulphates\"]\n",
    "    scale_features = [\"fixed acidity\", \"volatile acidity\", \"density\",\n",
    "                        \"residual sugar\", \"chlorides\", \"citric acid\"]\n",
    "    cat_features = [\"color\"]\n",
    "\n",
    "    cluster_pipeline = Pipeline([\n",
    "        (\"kmeans_cluster\", KMeans(n_clusters=2, random_state=RANDOM_STATE))\n",
    "        ])\n",
    "\n",
    "    num_pipeline = Pipeline([\n",
    "        (\"std_scaler\", StandardScaler(with_mean=True)),\n",
    "        ])\n",
    "\n",
    "    data_preparation_pipeline = ColumnTransformer([\n",
    "        (\"cluster\", cluster_pipeline, cluster_features),\n",
    "        (\"num\", num_pipeline, scale_features),\n",
    "        (\"pass\", \"passthrough\", cat_features)\n",
    "        ], n_jobs=-1)\n",
    "\n",
    "    model_pipeline = Pipeline([\n",
    "        (\"preprocessing\", data_preparation_pipeline),\n",
    "        (\"rf_reg\", RandomForestRegressor(n_estimators=1000, random_state=RANDOM_STATE, bootstrap=True, n_jobs=-1)),\n",
    "        ])\n",
    "\n",
    "    model_pipeline.fit(X=X,y=y)\n",
    "    \n",
    "    return model_pipeline"
   ]
  },
  {
   "cell_type": "markdown",
   "metadata": {},
   "source": [
    "Creating a model with final pipeline constructor"
   ]
  },
  {
   "cell_type": "code",
   "execution_count": null,
   "metadata": {},
   "outputs": [],
   "source": [
    "best_model = make_best_pipeline(X_train, y_train)"
   ]
  },
  {
   "cell_type": "code",
   "execution_count": null,
   "metadata": {},
   "outputs": [],
   "source": [
    "def make_comparison_pipeline(X, y):\n",
    "    \"\"\"\n",
    "    Creates pre-fit pipeline object\n",
    "\n",
    "    Args:\n",
    "        X (iterable): Wine training features dataset\n",
    "        y (iterable): Wine training labels dataset\n",
    "\n",
    "    Returns:\n",
    "        Pipeline: Unfitted pipeline object\n",
    "    \"\"\"\n",
    "\n",
    "    scale_features = [\"fixed acidity\", \"volatile acidity\", \"density\",\n",
    "                        \"residual sugar\", \"chlorides\", \"citric acid\"]\n",
    "    cat_features = [\"color\"]\n",
    "\n",
    "    num_pipeline = Pipeline([\n",
    "        (\"std_scaler\", StandardScaler(with_mean=True)),\n",
    "        ])\n",
    "\n",
    "    data_preparation_pipeline = ColumnTransformer([\n",
    "        (\"num\", num_pipeline, scale_features),\n",
    "        (\"pass\", \"passthrough\", cat_features)\n",
    "        ], n_jobs=-1)\n",
    "\n",
    "    model_pipeline = Pipeline([\n",
    "        (\"preprocessing\", data_preparation_pipeline),\n",
    "        (\"rf_reg\", RandomForestRegressor(n_estimators=1000, random_state=RANDOM_STATE, bootstrap=True, n_jobs=-1)),\n",
    "        ])\n",
    "\n",
    "    model_pipeline.fit(X=X,y=y)\n",
    "    \n",
    "    return model_pipeline"
   ]
  },
  {
   "cell_type": "markdown",
   "metadata": {},
   "source": [
    "Model Comparison"
   ]
  },
  {
   "cell_type": "code",
   "execution_count": null,
   "metadata": {},
   "outputs": [],
   "source": [
    "comparison_model = make_comparison_pipeline(X=X_train, y=y_train)"
   ]
  },
  {
   "cell_type": "code",
   "execution_count": null,
   "metadata": {},
   "outputs": [],
   "source": [
    "test_model.score(comparison_slice, comparison_slice_labels), best_model.score(comparison_slice, comparison_slice_labels), comparison_model.score(comparison_slice, comparison_slice_labels)"
   ]
  },
  {
   "cell_type": "code",
   "execution_count": null,
   "metadata": {},
   "outputs": [],
   "source": [
    "def predict_scores(model, X_test, y_test):\n",
    "    predictions = model.predict(X_test)\n",
    "\n",
    "    y_ix = y_test.index\n",
    "    \n",
    "    for i in range(0, len(y_test)):\n",
    "        print(f\"Index: {y_ix[i]}\",\n",
    "              f\"Predicted quality: {predictions[i]}\",\n",
    "              f\"Actual quality: {y_test.iloc[i]}\")\n",
    "        "
   ]
  },
  {
   "cell_type": "code",
   "execution_count": null,
   "metadata": {},
   "outputs": [],
   "source": [
    "predict_scores(best_model, comparison_slice, comparison_slice_labels)"
   ]
  }
 ],
 "metadata": {
  "interpreter": {
   "hash": "ca24b61ab186ef647d07018d3b1b3cbc1eeae7fa1c2b9e222bb93dc5cdd9ae0c"
  },
  "kernelspec": {
   "display_name": "Python 3.9.12 ('.venv': venv)",
   "language": "python",
   "name": "python3"
  },
  "language_info": {
   "codemirror_mode": {
    "name": "ipython",
    "version": 3
   },
   "file_extension": ".py",
   "mimetype": "text/x-python",
   "name": "python",
   "nbconvert_exporter": "python",
   "pygments_lexer": "ipython3",
   "version": "3.9.12"
  },
  "orig_nbformat": 4
 },
 "nbformat": 4,
 "nbformat_minor": 2
}
